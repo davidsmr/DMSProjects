{
    "cells": [
        {
            "cell_type": "markdown",
            "metadata": {},
            "source": "<center>\n    <img src=\"https://gitlab.com/ibm/skills-network/courses/placeholder101/-/raw/master/labs/module%201/images/IDSNlogo.png\" width=\"300\" alt=\"cognitiveclass.ai logo\"  />\n</center>\n"
        },
        {
            "cell_type": "markdown",
            "metadata": {},
            "source": "# **Space X  Falcon 9 First Stage Landing Prediction**\n"
        },
        {
            "cell_type": "markdown",
            "metadata": {},
            "source": "## Web scraping Falcon 9 and Falcon Heavy Launches Records from Wikipedia\n"
        },
        {
            "cell_type": "markdown",
            "metadata": {},
            "source": "Estimated time needed: **40** minutes\n"
        },
        {
            "cell_type": "markdown",
            "metadata": {},
            "source": "In this lab, you will be performing web scraping to collect Falcon 9 historical launch records from a Wikipedia page titled `List of Falcon 9 and Falcon Heavy launches`\n\n[https://en.wikipedia.org/wiki/List_of_Falcon\\_9\\_and_Falcon_Heavy_launches](https://en.wikipedia.org/wiki/List_of_Falcon\\_9\\_and_Falcon_Heavy_launches?utm_medium=Exinfluencer&utm_source=Exinfluencer&utm_content=000026UJ&utm_term=10006555&utm_id=NA-SkillsNetwork-Channel-SkillsNetworkCoursesIBMDS0321ENSkillsNetwork26802033-2021-01-01)\n"
        },
        {
            "cell_type": "markdown",
            "metadata": {},
            "source": "![](https://cf-courses-data.s3.us.cloud-object-storage.appdomain.cloud/IBM-DS0321EN-SkillsNetwork/labs/module\\_1\\_L2/images/Falcon9\\_rocket_family.svg)\n"
        },
        {
            "cell_type": "markdown",
            "metadata": {},
            "source": "Falcon 9 first stage will land successfully\n"
        },
        {
            "cell_type": "markdown",
            "metadata": {},
            "source": "![](https://cf-courses-data.s3.us.cloud-object-storage.appdomain.cloud/IBMDeveloperSkillsNetwork-DS0701EN-SkillsNetwork/api/Images/landing\\_1.gif)\n"
        },
        {
            "cell_type": "markdown",
            "metadata": {},
            "source": "Several examples of an unsuccessful landing are shown here:\n"
        },
        {
            "cell_type": "markdown",
            "metadata": {},
            "source": "![](https://cf-courses-data.s3.us.cloud-object-storage.appdomain.cloud/IBMDeveloperSkillsNetwork-DS0701EN-SkillsNetwork/api/Images/crash.gif)\n"
        },
        {
            "cell_type": "markdown",
            "metadata": {},
            "source": "More specifically, the launch records are stored in a HTML table shown below:\n"
        },
        {
            "cell_type": "markdown",
            "metadata": {},
            "source": "![](https://cf-courses-data.s3.us.cloud-object-storage.appdomain.cloud/IBM-DS0321EN-SkillsNetwork/labs/module\\_1\\_L2/images/falcon9-launches-wiki.png)\n"
        },
        {
            "cell_type": "markdown",
            "metadata": {},
            "source": "## Objectives\n\nWeb scrap Falcon 9 launch records with `BeautifulSoup`:\n\n*   Extract a Falcon 9 launch records HTML table from Wikipedia\n*   Parse the table and convert it into a Pandas data frame\n"
        },
        {
            "cell_type": "markdown",
            "metadata": {},
            "source": "First let's import required packages for this lab\n"
        },
        {
            "cell_type": "code",
            "execution_count": 1,
            "metadata": {},
            "outputs": [
                {
                    "name": "stdout",
                    "output_type": "stream",
                    "text": "Requirement already satisfied: beautifulsoup4 in /opt/conda/envs/Python-3.8-main/lib/python3.8/site-packages (4.9.3)\nRequirement already satisfied: soupsieve>1.2 in /opt/conda/envs/Python-3.8-main/lib/python3.8/site-packages (from beautifulsoup4) (2.2.1)\nRequirement already satisfied: requests in /opt/conda/envs/Python-3.8-main/lib/python3.8/site-packages (2.25.1)\nRequirement already satisfied: idna<3,>=2.5 in /opt/conda/envs/Python-3.8-main/lib/python3.8/site-packages (from requests) (2.8)\nRequirement already satisfied: certifi>=2017.4.17 in /opt/conda/envs/Python-3.8-main/lib/python3.8/site-packages (from requests) (2021.10.8)\nRequirement already satisfied: urllib3<1.27,>=1.21.1 in /opt/conda/envs/Python-3.8-main/lib/python3.8/site-packages (from requests) (1.26.6)\nRequirement already satisfied: chardet<5,>=3.0.2 in /opt/conda/envs/Python-3.8-main/lib/python3.8/site-packages (from requests) (3.0.4)\n"
                }
            ],
            "source": "!pip3 install beautifulsoup4\n!pip3 install requests"
        },
        {
            "cell_type": "code",
            "execution_count": 2,
            "metadata": {},
            "outputs": [],
            "source": "import sys\n\nimport requests\nfrom bs4 import BeautifulSoup\nimport re\nimport unicodedata\nimport pandas as pd"
        },
        {
            "cell_type": "markdown",
            "metadata": {},
            "source": "and we will provide some helper functions for you to process web scraped HTML table\n"
        },
        {
            "cell_type": "code",
            "execution_count": 3,
            "metadata": {},
            "outputs": [],
            "source": "def date_time(table_cells):\n    \"\"\"\n    This function returns the data and time from the HTML  table cell\n    Input: the  element of a table data cell extracts extra row\n    \"\"\"\n    return [data_time.strip() for data_time in list(table_cells.strings)][0:2]\n\ndef booster_version(table_cells):\n    \"\"\"\n    This function returns the booster version from the HTML  table cell \n    Input: the  element of a table data cell extracts extra row\n    \"\"\"\n    out=''.join([booster_version for i,booster_version in enumerate( table_cells.strings) if i%2==0][0:-1])\n    return out\n\ndef landing_status(table_cells):\n    \"\"\"\n    This function returns the landing status from the HTML table cell \n    Input: the  element of a table data cell extracts extra row\n    \"\"\"\n    out=[i for i in table_cells.strings][0]\n    return out\n\n\ndef get_mass(table_cells):\n    mass=unicodedata.normalize(\"NFKD\", table_cells.text).strip()\n    if mass:\n        mass.find(\"kg\")\n        new_mass=mass[0:mass.find(\"kg\")+2]\n    else:\n        new_mass=0\n    return new_mass\n\n\ndef extract_column_from_header(row):\n    \"\"\"\n    This function returns the landing status from the HTML table cell \n    Input: the  element of a table data cell extracts extra row\n    \"\"\"\n    if (row.br):\n        row.br.extract()\n    if row.a:\n        row.a.extract()\n    if row.sup:\n        row.sup.extract()\n        \n    colunm_name = ' '.join(row.contents)\n    \n    # Filter the digit and empty names\n    if not(colunm_name.strip().isdigit()):\n        colunm_name = colunm_name.strip()\n        return colunm_name    \n"
        },
        {
            "cell_type": "markdown",
            "metadata": {},
            "source": "To keep the lab tasks consistent, you will be asked to scrape the data from a snapshot of the  `List of Falcon 9 and Falcon Heavy launches` Wikipage updated on\n`9th June 2021`\n"
        },
        {
            "cell_type": "code",
            "execution_count": 4,
            "metadata": {},
            "outputs": [],
            "source": "static_url = \"https://en.wikipedia.org/w/index.php?title=List_of_Falcon_9_and_Falcon_Heavy_launches&oldid=1027686922\""
        },
        {
            "cell_type": "markdown",
            "metadata": {},
            "source": "Next, request the HTML page from the above URL and get a `response` object\n"
        },
        {
            "cell_type": "markdown",
            "metadata": {},
            "source": "### TASK 1: Request the Falcon9 Launch Wiki page from its URL\n"
        },
        {
            "cell_type": "markdown",
            "metadata": {},
            "source": "First, let's perform an HTTP GET method to request the Falcon9 Launch HTML page, as an HTTP response.\n"
        },
        {
            "cell_type": "code",
            "execution_count": 5,
            "metadata": {},
            "outputs": [],
            "source": "# use requests.get() method with the provided static_url\n# assign the response to a object\nRocketData = requests.get(static_url).text"
        },
        {
            "cell_type": "markdown",
            "metadata": {},
            "source": "Create a `BeautifulSoup` object from the HTML `response`\n"
        },
        {
            "cell_type": "code",
            "execution_count": 6,
            "metadata": {},
            "outputs": [],
            "source": "# Use BeautifulSoup() to create a BeautifulSoup object from a response text content\nsoup = BeautifulSoup(RocketData,\"html5lib\")"
        },
        {
            "cell_type": "markdown",
            "metadata": {},
            "source": "Print the page title to verify if the `BeautifulSoup` object was created properly\n"
        },
        {
            "cell_type": "code",
            "execution_count": 7,
            "metadata": {},
            "outputs": [
                {
                    "name": "stdout",
                    "output_type": "stream",
                    "text": "<title>List of Falcon 9 and Falcon Heavy launches - Wikipedia</title>\n"
                }
            ],
            "source": "# Use soup.title attribute\nprint(soup.title)"
        },
        {
            "cell_type": "markdown",
            "metadata": {},
            "source": "### TASK 2: Extract all column/variable names from the HTML table header\n"
        },
        {
            "cell_type": "markdown",
            "metadata": {},
            "source": "Next, we want to collect all relevant column names from the HTML table header\n"
        },
        {
            "cell_type": "markdown",
            "metadata": {},
            "source": "Let's try to find all tables on the wiki page first. If you need to refresh your memory about `BeautifulSoup`, please check the external reference link towards the end of this lab\n"
        },
        {
            "cell_type": "code",
            "execution_count": 8,
            "metadata": {},
            "outputs": [],
            "source": "# Use the find_all function in the BeautifulSoup object, with element type `table`\n# Assign the result to a list called `html_tables`\nhtml_tables = soup.find_all('table') "
        },
        {
            "cell_type": "code",
            "execution_count": 9,
            "metadata": {},
            "outputs": [],
            "source": "#html_tables"
        },
        {
            "cell_type": "markdown",
            "metadata": {},
            "source": "Starting from the third table is our target table contains the actual launch records.\n"
        },
        {
            "cell_type": "code",
            "execution_count": 10,
            "metadata": {},
            "outputs": [],
            "source": "# Let's print the third table and check its content\nfirst_launch_table = html_tables[2]\n#print(first_launch_table)"
        },
        {
            "cell_type": "markdown",
            "metadata": {},
            "source": "You should able to see the columns names embedded in the table header elements `<th>` as follows:\n"
        },
        {
            "cell_type": "markdown",
            "metadata": {},
            "source": "```\n<tr>\n<th scope=\"col\">Flight No.\n</th>\n<th scope=\"col\">Date and<br/>time (<a href=\"/wiki/Coordinated_Universal_Time\" title=\"Coordinated Universal Time\">UTC</a>)\n</th>\n<th scope=\"col\"><a href=\"/wiki/List_of_Falcon_9_first-stage_boosters\" title=\"List of Falcon 9 first-stage boosters\">Version,<br/>Booster</a> <sup class=\"reference\" id=\"cite_ref-booster_11-0\"><a href=\"#cite_note-booster-11\">[b]</a></sup>\n</th>\n<th scope=\"col\">Launch site\n</th>\n<th scope=\"col\">Payload<sup class=\"reference\" id=\"cite_ref-Dragon_12-0\"><a href=\"#cite_note-Dragon-12\">[c]</a></sup>\n</th>\n<th scope=\"col\">Payload mass\n</th>\n<th scope=\"col\">Orbit\n</th>\n<th scope=\"col\">Customer\n</th>\n<th scope=\"col\">Launch<br/>outcome\n</th>\n<th scope=\"col\"><a href=\"/wiki/Falcon_9_first-stage_landing_tests\" title=\"Falcon 9 first-stage landing tests\">Booster<br/>landing</a>\n</th></tr>\n```\n"
        },
        {
            "cell_type": "markdown",
            "metadata": {},
            "source": "Next, we just need to iterate through the `<th>` elements and apply the provided `extract_column_from_header()` to extract column name one by one\n"
        },
        {
            "cell_type": "code",
            "execution_count": 11,
            "metadata": {},
            "outputs": [],
            "source": "column_names = []\n\n# Apply find_all() function with `th` element on first_launch_table\n# Iterate each th element and apply the provided extract_column_from_header() to get a column name\n# Append the Non-empty column name (`if name is not None and len(name) > 0`) into a list called column_names\n"
        },
        {
            "cell_type": "code",
            "execution_count": 12,
            "metadata": {},
            "outputs": [],
            "source": "columns = soup.find_all('th')\n\nfor name in columns:\n    column_names.append(name.text.strip())"
        },
        {
            "cell_type": "markdown",
            "metadata": {},
            "source": "Check the extracted column names\n"
        },
        {
            "cell_type": "code",
            "execution_count": 13,
            "metadata": {},
            "outputs": [],
            "source": "#print(column_names)"
        },
        {
            "cell_type": "code",
            "execution_count": 14,
            "metadata": {},
            "outputs": [],
            "source": "launch_dict = dict.fromkeys(column_names)"
        },
        {
            "cell_type": "code",
            "execution_count": 15,
            "metadata": {},
            "outputs": [],
            "source": "#launch_dict"
        },
        {
            "cell_type": "code",
            "execution_count": 16,
            "metadata": {},
            "outputs": [],
            "source": "# Remove an irrelvant column\ndel launch_dict['Date and time (UTC)']"
        },
        {
            "cell_type": "code",
            "execution_count": 17,
            "metadata": {},
            "outputs": [],
            "source": "#launch_dict"
        },
        {
            "cell_type": "markdown",
            "metadata": {},
            "source": "## TASK 3: Create a data frame by parsing the launch HTML tables\n"
        },
        {
            "cell_type": "markdown",
            "metadata": {},
            "source": "We will create an empty dictionary with keys from the extracted column names in the previous task. Later, this dictionary will be converted into a Pandas dataframe\n"
        },
        {
            "cell_type": "code",
            "execution_count": 18,
            "metadata": {},
            "outputs": [],
            "source": "# Let's initial the launch_dict with each value to be an empty list\nlaunch_dict['Flight No.'] = []\nlaunch_dict['Launch site'] = []\nlaunch_dict['Payload'] = []\nlaunch_dict['Payload mass'] = []\nlaunch_dict['Orbit'] = []\nlaunch_dict['Customer'] = []\nlaunch_dict['Launch outcome'] = []\n# Added some new columns\nlaunch_dict['Version Booster']=[]\nlaunch_dict['Booster landing']=[]\nlaunch_dict['Date']=[]\nlaunch_dict['Time']=[]"
        },
        {
            "cell_type": "code",
            "execution_count": 19,
            "metadata": {},
            "outputs": [],
            "source": "#launch_dict"
        },
        {
            "cell_type": "markdown",
            "metadata": {},
            "source": "Next, we just need to fill up the `launch_dict` with launch records extracted from table rows.\n"
        },
        {
            "cell_type": "markdown",
            "metadata": {},
            "source": "Usually, HTML tables in Wiki pages are likely to contain unexpected annotations and other types of noises, such as reference links `B0004.1[8]`, missing values `N/A [e]`, inconsistent formatting, etc.\n"
        },
        {
            "cell_type": "markdown",
            "metadata": {},
            "source": "To simplify the parsing process, we have provided an incomplete code snippet below to help you to fill up the `launch_dict`. Please complete the following code snippet with TODOs or you can choose to write your own logic to parse all launch tables:\n"
        },
        {
            "cell_type": "code",
            "execution_count": 20,
            "metadata": {},
            "outputs": [
                {
                    "data": {
                        "text/plain": "198"
                    },
                    "execution_count": 20,
                    "metadata": {},
                    "output_type": "execute_result"
                }
            ],
            "source": "len(launch_dict)"
        },
        {
            "cell_type": "code",
            "execution_count": 21,
            "metadata": {},
            "outputs": [],
            "source": "#launch_dict"
        },
        {
            "cell_type": "code",
            "execution_count": 22,
            "metadata": {},
            "outputs": [],
            "source": "#Extract each table \nextracted_row = 0\nfor table_number,table in enumerate(soup.find_all('table',\"wikitable plainrowheaders collapsible\")):\n   # get table row \n    for rows in table.find_all(\"tr\"):\n        #check to see if first table heading is as number corresponding to launch a number \n        if rows.th:\n            if rows.th.string:\n                flight_number=rows.th.string.strip()\n                flag=flight_number.isdigit()\n        else:\n            flag=False\n        #get table element \n        row=rows.find_all('td')\n        #if it is number save cells in a dictonary \n        if flag:\n            extracted_row += 1\n            "
        },
        {
            "cell_type": "code",
            "execution_count": 23,
            "metadata": {},
            "outputs": [],
            "source": "#print(launch_dict.values())"
        },
        {
            "cell_type": "code",
            "execution_count": 24,
            "metadata": {},
            "outputs": [],
            "source": "#flight_number = 999\n#launch_dict['Flight No.'].append(flight_number)\n#launch_dict"
        },
        {
            "cell_type": "code",
            "execution_count": 25,
            "metadata": {},
            "outputs": [],
            "source": "extracted_row = 0\n#Extract each table \nfor table_number,table in enumerate(soup.find_all('table',\"wikitable plainrowheaders collapsible\")):\n   # get table row \n    for rows in table.find_all(\"tr\"):\n        #check to see if first table heading is as number corresponding to launch a number \n        if rows.th:\n            if rows.th.string:\n                flight_number=rows.th.string.strip()\n                flag=flight_number.isdigit()\n        else:\n            flag=False\n        #get table element \n        row=rows.find_all('td')\n        #if it is number save cells in a dictonary \n        if flag:\n            extracted_row += 1\n            flight_number\n            # Flight Number value\n            # TODO: Append the flight_number into launch_dict with key `Flight No.`\n            launch_dict['Flight No.'].append(flight_number)\n            \n            #print(flight_number)\n            datatimelist=date_time(row[0])\n            \n            # Date value\n            # TODO: Append the date into launch_dict with key `Date`\n            date = datatimelist[0].strip(',')\n            #print(date)\n            launch_dict['Date'].append(date)\n            \n            # Time value\n            # TODO: Append the time into launch_dict with key `Time`\n            time = datatimelist[1]\n            #print(time)\n            launch_dict['Time'].append(time)            \n              \n            # Booster version\n            # TODO: Append the bv into launch_dict with key `Version Booster`\n            bv=booster_version(row[1])\n            if not(bv):\n                bv=row[1].a.string\n            #print(bv)\n            launch_dict['Version Booster'].append(bv)            \n            \n            # Launch Site\n            # TODO: Append the bv into launch_dict with key `Launch Site`\n            launch_site = row[2].a.string\n            #print(launch_site)\n            launch_dict['Launch site'].append(launch_site)            \n            \n            # Payload\n            # TODO: Append the payload into launch_dict with key `Payload`\n            payload = row[3].a.string\n            #print(payload)\n            launch_dict['Payload'].append(payload)            \n            \n            # Payload Mass\n            # TODO: Append the payload_mass into launch_dict with key `Payload mass`\n            payload_mass = get_mass(row[4])\n            #print(payload)\n            launch_dict['Payload mass'].append(payload_mass)            \n            \n            # Orbit\n            # TODO: Append the orbit into launch_dict with key `Orbit`\n            orbit = row[5].a.string\n            #print(orbit)\n            launch_dict['Orbit'].append(orbit)   \n            \n            # Launch outcome\n            # TODO: Append the launch_outcome into launch_dict with key `Launch outcome`\n            launch_outcome = list(row[7].strings)[0]\n            #print(launch_outcome)\n            launch_dict['Launch outcome'].append(launch_outcome)            \n\n            # Booster landing\n            # TODO: Append the launch_outcome into launch_dict with key `Booster landing`\n            booster_landing = landing_status(row[8])\n            #print(booster_landing)\n            launch_dict['Booster landing'].append(booster_landing)            \n            \n            \n#            # Customer\n#            # TODO: Append the customer into launch_dict with key `Customer`\n#            customer = row[6].a.string\n#            #print(customer)\n#            launch_dict['Customer'].append(customer)            \n\n            # Customer\n            # TODO: Append the customer into launch_dict with key `Customer`\n            try:\n               customer = row[6].a.string\n#              print(customer)\n               launch_dict['Customer'].append(customer)            \n            except:\n               launch_dict['Customer'].append(\"999\")   \n                  "
        },
        {
            "cell_type": "code",
            "execution_count": 26,
            "metadata": {},
            "outputs": [],
            "source": "#launch_dict"
        },
        {
            "cell_type": "markdown",
            "metadata": {},
            "source": "After you have fill in the parsed launch record values into `launch_dict`, you can create a dataframe from it.\n"
        },
        {
            "cell_type": "code",
            "execution_count": 27,
            "metadata": {},
            "outputs": [],
            "source": "df=pd.DataFrame(launch_dict)"
        },
        {
            "cell_type": "code",
            "execution_count": 28,
            "metadata": {},
            "outputs": [],
            "source": "#df.head"
        },
        {
            "cell_type": "code",
            "execution_count": 29,
            "metadata": {},
            "outputs": [
                {
                    "data": {
                        "text/plain": "Index(['Flight No.', 'Date andtime (UTC)', 'Version,Booster [b]',\n       'Launch site', 'Payload[c]', 'Payload mass', 'Orbit', 'Customer',\n       'Launchoutcome', 'Boosterlanding',\n       ...\n       'Launches by rocket type', 'Launches by spaceport',\n       'Agencies, companiesand facilities', 'Other mission listsand timelines',\n       'Payload', 'Launch outcome', 'Version Booster', 'Booster landing',\n       'Date', 'Time'],\n      dtype='object', length=198)"
                    },
                    "execution_count": 29,
                    "metadata": {},
                    "output_type": "execute_result"
                }
            ],
            "source": "df.columns"
        },
        {
            "cell_type": "code",
            "execution_count": 33,
            "metadata": {},
            "outputs": [
                {
                    "data": {
                        "text/plain": "(121, 198)"
                    },
                    "execution_count": 33,
                    "metadata": {},
                    "output_type": "execute_result"
                }
            ],
            "source": "df.shape"
        },
        {
            "cell_type": "code",
            "execution_count": 34,
            "metadata": {},
            "outputs": [
                {
                    "data": {
                        "text/html": "<div>\n<style scoped>\n    .dataframe tbody tr th:only-of-type {\n        vertical-align: middle;\n    }\n\n    .dataframe tbody tr th {\n        vertical-align: top;\n    }\n\n    .dataframe thead th {\n        text-align: right;\n    }\n</style>\n<table border=\"1\" class=\"dataframe\">\n  <thead>\n    <tr style=\"text-align: right;\">\n      <th></th>\n      <th>Flight No.</th>\n      <th>Date andtime (UTC)</th>\n      <th>Version,Booster [b]</th>\n      <th>Launch site</th>\n      <th>Payload[c]</th>\n      <th>Payload mass</th>\n      <th>Orbit</th>\n      <th>Customer</th>\n      <th>Launchoutcome</th>\n      <th>Boosterlanding</th>\n      <th>...</th>\n      <th>Launches by rocket type</th>\n      <th>Launches by spaceport</th>\n      <th>Agencies, companiesand facilities</th>\n      <th>Other mission listsand timelines</th>\n      <th>Payload</th>\n      <th>Launch outcome</th>\n      <th>Version Booster</th>\n      <th>Booster landing</th>\n      <th>Date</th>\n      <th>Time</th>\n    </tr>\n  </thead>\n  <tbody>\n    <tr>\n      <th>0</th>\n      <td>1</td>\n      <td>None</td>\n      <td>None</td>\n      <td>CCAFS</td>\n      <td>None</td>\n      <td>0</td>\n      <td>LEO</td>\n      <td>SpaceX</td>\n      <td>None</td>\n      <td>None</td>\n      <td>...</td>\n      <td>None</td>\n      <td>None</td>\n      <td>None</td>\n      <td>None</td>\n      <td>Dragon Spacecraft Qualification Unit</td>\n      <td>Success\\n</td>\n      <td>F9 v1.0B0003.1</td>\n      <td>Failure</td>\n      <td>4 June 2010</td>\n      <td>18:45</td>\n    </tr>\n    <tr>\n      <th>1</th>\n      <td>2</td>\n      <td>None</td>\n      <td>None</td>\n      <td>CCAFS</td>\n      <td>None</td>\n      <td>0</td>\n      <td>LEO</td>\n      <td>NASA</td>\n      <td>None</td>\n      <td>None</td>\n      <td>...</td>\n      <td>None</td>\n      <td>None</td>\n      <td>None</td>\n      <td>None</td>\n      <td>Dragon</td>\n      <td>Success</td>\n      <td>F9 v1.0B0004.1</td>\n      <td>Failure</td>\n      <td>8 December 2010</td>\n      <td>15:43</td>\n    </tr>\n    <tr>\n      <th>2</th>\n      <td>3</td>\n      <td>None</td>\n      <td>None</td>\n      <td>CCAFS</td>\n      <td>None</td>\n      <td>525 kg</td>\n      <td>LEO</td>\n      <td>NASA</td>\n      <td>None</td>\n      <td>None</td>\n      <td>...</td>\n      <td>None</td>\n      <td>None</td>\n      <td>None</td>\n      <td>None</td>\n      <td>Dragon</td>\n      <td>Success</td>\n      <td>F9 v1.0B0005.1</td>\n      <td>No attempt\\n</td>\n      <td>22 May 2012</td>\n      <td>07:44</td>\n    </tr>\n    <tr>\n      <th>3</th>\n      <td>4</td>\n      <td>None</td>\n      <td>None</td>\n      <td>CCAFS</td>\n      <td>None</td>\n      <td>4,700 kg</td>\n      <td>LEO</td>\n      <td>NASA</td>\n      <td>None</td>\n      <td>None</td>\n      <td>...</td>\n      <td>None</td>\n      <td>None</td>\n      <td>None</td>\n      <td>None</td>\n      <td>SpaceX CRS-1</td>\n      <td>Success\\n</td>\n      <td>F9 v1.0B0006.1</td>\n      <td>No attempt</td>\n      <td>8 October 2012</td>\n      <td>00:35</td>\n    </tr>\n    <tr>\n      <th>4</th>\n      <td>5</td>\n      <td>None</td>\n      <td>None</td>\n      <td>CCAFS</td>\n      <td>None</td>\n      <td>4,877 kg</td>\n      <td>LEO</td>\n      <td>NASA</td>\n      <td>None</td>\n      <td>None</td>\n      <td>...</td>\n      <td>None</td>\n      <td>None</td>\n      <td>None</td>\n      <td>None</td>\n      <td>SpaceX CRS-2</td>\n      <td>Success\\n</td>\n      <td>F9 v1.0B0007.1</td>\n      <td>No attempt\\n</td>\n      <td>1 March 2013</td>\n      <td>15:10</td>\n    </tr>\n    <tr>\n      <th>6</th>\n      <td>7</td>\n      <td>None</td>\n      <td>None</td>\n      <td>CCAFS</td>\n      <td>None</td>\n      <td>3,170 kg</td>\n      <td>GTO</td>\n      <td>SES</td>\n      <td>None</td>\n      <td>None</td>\n      <td>...</td>\n      <td>None</td>\n      <td>None</td>\n      <td>None</td>\n      <td>None</td>\n      <td>SES-8</td>\n      <td>Success</td>\n      <td>F9 v1.1</td>\n      <td>No attempt</td>\n      <td>3 December 2013</td>\n      <td>22:41</td>\n    </tr>\n    <tr>\n      <th>7</th>\n      <td>8</td>\n      <td>None</td>\n      <td>None</td>\n      <td>CCAFS</td>\n      <td>None</td>\n      <td>3,325 kg</td>\n      <td>GTO</td>\n      <td>Thaicom</td>\n      <td>None</td>\n      <td>None</td>\n      <td>...</td>\n      <td>None</td>\n      <td>None</td>\n      <td>None</td>\n      <td>None</td>\n      <td>Thaicom 6</td>\n      <td>Success</td>\n      <td>F9 v1.1</td>\n      <td>No attempt</td>\n      <td>6 January 2014</td>\n      <td>22:06</td>\n    </tr>\n    <tr>\n      <th>46</th>\n      <td>47</td>\n      <td>None</td>\n      <td>None</td>\n      <td>CCAFS</td>\n      <td>None</td>\n      <td>C</td>\n      <td>LEO</td>\n      <td>Northrop Grumman</td>\n      <td>None</td>\n      <td>None</td>\n      <td>...</td>\n      <td>None</td>\n      <td>None</td>\n      <td>None</td>\n      <td>None</td>\n      <td>Zuma</td>\n      <td>Success</td>\n      <td>F9 B4</td>\n      <td>Success</td>\n      <td>8 January 2018</td>\n      <td>01:00</td>\n    </tr>\n    <tr>\n      <th>47</th>\n      <td>48</td>\n      <td>None</td>\n      <td>None</td>\n      <td>CCAFS</td>\n      <td>None</td>\n      <td>4,230 kg</td>\n      <td>GTO</td>\n      <td>SES</td>\n      <td>None</td>\n      <td>None</td>\n      <td>...</td>\n      <td>None</td>\n      <td>None</td>\n      <td>None</td>\n      <td>None</td>\n      <td>GovSat-1</td>\n      <td>Success</td>\n      <td>F9 FTB1032.2</td>\n      <td>Controlled</td>\n      <td>31 January 2018</td>\n      <td>21:25</td>\n    </tr>\n    <tr>\n      <th>49</th>\n      <td>50</td>\n      <td>None</td>\n      <td>None</td>\n      <td>CCAFS</td>\n      <td>None</td>\n      <td>6,092 kg</td>\n      <td>GTO</td>\n      <td>Hispasat</td>\n      <td>None</td>\n      <td>None</td>\n      <td>...</td>\n      <td>None</td>\n      <td>None</td>\n      <td>None</td>\n      <td>None</td>\n      <td>Hispasat 30W-6</td>\n      <td>Success</td>\n      <td>F9 B4</td>\n      <td>No attempt</td>\n      <td>6 March 2018</td>\n      <td>05:33</td>\n    </tr>\n    <tr>\n      <th>51</th>\n      <td>52</td>\n      <td>None</td>\n      <td>None</td>\n      <td>CCAFS</td>\n      <td>None</td>\n      <td>2,647 kg</td>\n      <td>LEO</td>\n      <td>NASA</td>\n      <td>None</td>\n      <td>None</td>\n      <td>...</td>\n      <td>None</td>\n      <td>None</td>\n      <td>None</td>\n      <td>None</td>\n      <td>SpaceX CRS-14</td>\n      <td>Success</td>\n      <td>F9 B4B1039.2</td>\n      <td>No attempt</td>\n      <td>2 April 2018</td>\n      <td>20:30</td>\n    </tr>\n    <tr>\n      <th>52</th>\n      <td>53</td>\n      <td>None</td>\n      <td>None</td>\n      <td>CCAFS</td>\n      <td>None</td>\n      <td>362 kg</td>\n      <td>HEO</td>\n      <td>NASA</td>\n      <td>None</td>\n      <td>None</td>\n      <td>...</td>\n      <td>None</td>\n      <td>None</td>\n      <td>None</td>\n      <td>None</td>\n      <td>Transiting Exoplanet Survey Satellite</td>\n      <td>Success</td>\n      <td>F9 B4</td>\n      <td>Success</td>\n      <td>18 April 2018</td>\n      <td>22:51</td>\n    </tr>\n    <tr>\n      <th>55</th>\n      <td>56</td>\n      <td>None</td>\n      <td>None</td>\n      <td>CCAFS</td>\n      <td>None</td>\n      <td>5,384 kg</td>\n      <td>GTO</td>\n      <td>SES</td>\n      <td>None</td>\n      <td>None</td>\n      <td>...</td>\n      <td>None</td>\n      <td>None</td>\n      <td>None</td>\n      <td>None</td>\n      <td>SES-12</td>\n      <td>Success</td>\n      <td>F9 B4B1040.2</td>\n      <td>No attempt</td>\n      <td>4 June 2018</td>\n      <td>04:45</td>\n    </tr>\n    <tr>\n      <th>56</th>\n      <td>57</td>\n      <td>None</td>\n      <td>None</td>\n      <td>CCAFS</td>\n      <td>None</td>\n      <td>2,697 kg</td>\n      <td>LEO</td>\n      <td>NASA</td>\n      <td>None</td>\n      <td>None</td>\n      <td>...</td>\n      <td>None</td>\n      <td>None</td>\n      <td>None</td>\n      <td>None</td>\n      <td>SpaceX CRS-15</td>\n      <td>Success</td>\n      <td>F9 B4B1045.2</td>\n      <td>No attempt</td>\n      <td>29 June 2018</td>\n      <td>09:42</td>\n    </tr>\n    <tr>\n      <th>57</th>\n      <td>58</td>\n      <td>None</td>\n      <td>None</td>\n      <td>CCAFS</td>\n      <td>None</td>\n      <td>7,075 kg</td>\n      <td>GTO</td>\n      <td>Telesat</td>\n      <td>None</td>\n      <td>None</td>\n      <td>...</td>\n      <td>None</td>\n      <td>None</td>\n      <td>None</td>\n      <td>None</td>\n      <td>Telstar 19V</td>\n      <td>Success</td>\n      <td>F9 B5</td>\n      <td>Success</td>\n      <td>22 July 2018</td>\n      <td>05:50</td>\n    </tr>\n    <tr>\n      <th>59</th>\n      <td>60</td>\n      <td>None</td>\n      <td>None</td>\n      <td>CCAFS</td>\n      <td>None</td>\n      <td>5,800 kg</td>\n      <td>GTO</td>\n      <td>Telkom Indonesia</td>\n      <td>None</td>\n      <td>None</td>\n      <td>...</td>\n      <td>None</td>\n      <td>None</td>\n      <td>None</td>\n      <td>None</td>\n      <td>Merah Putih</td>\n      <td>Success</td>\n      <td>F9 B5B1046.2</td>\n      <td>Success</td>\n      <td>7 August 2018</td>\n      <td>05:18</td>\n    </tr>\n    <tr>\n      <th>60</th>\n      <td>61</td>\n      <td>None</td>\n      <td>None</td>\n      <td>CCAFS</td>\n      <td>None</td>\n      <td>7,060 kg</td>\n      <td>GTO</td>\n      <td>Telesat</td>\n      <td>None</td>\n      <td>None</td>\n      <td>...</td>\n      <td>None</td>\n      <td>None</td>\n      <td>None</td>\n      <td>None</td>\n      <td>Telstar 18V</td>\n      <td>Success</td>\n      <td>F9 B5</td>\n      <td>Success</td>\n      <td>10 September 2018</td>\n      <td>04:45</td>\n    </tr>\n    <tr>\n      <th>64</th>\n      <td>65</td>\n      <td>None</td>\n      <td>None</td>\n      <td>CCAFS</td>\n      <td>None</td>\n      <td>2,500 kg</td>\n      <td>LEO</td>\n      <td>NASA</td>\n      <td>None</td>\n      <td>None</td>\n      <td>...</td>\n      <td>None</td>\n      <td>None</td>\n      <td>None</td>\n      <td>None</td>\n      <td>SpaceX CRS-16</td>\n      <td>Success\\n</td>\n      <td>F9 B5</td>\n      <td>Failure</td>\n      <td>5 December 2018</td>\n      <td>18:16</td>\n    </tr>\n    <tr>\n      <th>65</th>\n      <td>66</td>\n      <td>None</td>\n      <td>None</td>\n      <td>CCAFS</td>\n      <td>None</td>\n      <td>4,400 kg</td>\n      <td>MEO</td>\n      <td>USAF</td>\n      <td>None</td>\n      <td>None</td>\n      <td>...</td>\n      <td>None</td>\n      <td>None</td>\n      <td>None</td>\n      <td>None</td>\n      <td>GPS III</td>\n      <td>Success</td>\n      <td>F9 B5</td>\n      <td>No attempt</td>\n      <td>23 December 2018</td>\n      <td>13:51</td>\n    </tr>\n    <tr>\n      <th>67</th>\n      <td>68</td>\n      <td>None</td>\n      <td>None</td>\n      <td>CCAFS</td>\n      <td>None</td>\n      <td>4,850 kg</td>\n      <td>GTO</td>\n      <td>PSN</td>\n      <td>None</td>\n      <td>None</td>\n      <td>...</td>\n      <td>None</td>\n      <td>None</td>\n      <td>None</td>\n      <td>None</td>\n      <td>Nusantara Satu</td>\n      <td>Success\\n</td>\n      <td>F9 B5B1048.3</td>\n      <td>Success</td>\n      <td>22 February 2019</td>\n      <td>01:45</td>\n    </tr>\n    <tr>\n      <th>69</th>\n      <td>70</td>\n      <td>None</td>\n      <td>None</td>\n      <td>CCAFS</td>\n      <td>None</td>\n      <td>2,495 kg</td>\n      <td>LEO</td>\n      <td>NASA</td>\n      <td>None</td>\n      <td>None</td>\n      <td>...</td>\n      <td>None</td>\n      <td>None</td>\n      <td>None</td>\n      <td>None</td>\n      <td>SpaceX CRS-17</td>\n      <td>Success\\n</td>\n      <td>F9 B5</td>\n      <td>Success</td>\n      <td>4 May 2019</td>\n      <td>06:48</td>\n    </tr>\n    <tr>\n      <th>70</th>\n      <td>71</td>\n      <td>None</td>\n      <td>None</td>\n      <td>CCAFS</td>\n      <td>None</td>\n      <td>13,620 kg</td>\n      <td>LEO</td>\n      <td>SpaceX</td>\n      <td>None</td>\n      <td>None</td>\n      <td>...</td>\n      <td>None</td>\n      <td>None</td>\n      <td>None</td>\n      <td>None</td>\n      <td>Starlink</td>\n      <td>Success\\n</td>\n      <td>F9 B5B1049.3</td>\n      <td>Success</td>\n      <td>24 May 2019</td>\n      <td>02:30</td>\n    </tr>\n    <tr>\n      <th>72</th>\n      <td>73</td>\n      <td>None</td>\n      <td>None</td>\n      <td>CCAFS</td>\n      <td>None</td>\n      <td>2,268 kg</td>\n      <td>LEO</td>\n      <td>NASA</td>\n      <td>None</td>\n      <td>None</td>\n      <td>...</td>\n      <td>None</td>\n      <td>None</td>\n      <td>None</td>\n      <td>None</td>\n      <td>SpaceX CRS-18</td>\n      <td>Success\\n</td>\n      <td>F9 B5B1056.2</td>\n      <td>Success</td>\n      <td>25 July 2019</td>\n      <td>22:01</td>\n    </tr>\n    <tr>\n      <th>73</th>\n      <td>74</td>\n      <td>None</td>\n      <td>None</td>\n      <td>CCAFS</td>\n      <td>None</td>\n      <td>6,500 kg</td>\n      <td>GTO</td>\n      <td>Spacecom</td>\n      <td>None</td>\n      <td>None</td>\n      <td>...</td>\n      <td>None</td>\n      <td>None</td>\n      <td>None</td>\n      <td>None</td>\n      <td>AMOS-17</td>\n      <td>Success\\n</td>\n      <td>F9 B5B1047.3</td>\n      <td>No attempt</td>\n      <td>6 August 2019</td>\n      <td>23:23</td>\n    </tr>\n    <tr>\n      <th>74</th>\n      <td>75</td>\n      <td>None</td>\n      <td>None</td>\n      <td>CCAFS</td>\n      <td>None</td>\n      <td>15,600 kg</td>\n      <td>LEO</td>\n      <td>SpaceX</td>\n      <td>None</td>\n      <td>None</td>\n      <td>...</td>\n      <td>None</td>\n      <td>None</td>\n      <td>None</td>\n      <td>None</td>\n      <td>Starlink</td>\n      <td>Success\\n</td>\n      <td>F9 B5</td>\n      <td>Success</td>\n      <td>11 November 2019</td>\n      <td>14:56</td>\n    </tr>\n    <tr>\n      <th>75</th>\n      <td>76</td>\n      <td>None</td>\n      <td>None</td>\n      <td>CCAFS</td>\n      <td>None</td>\n      <td>2,617 kg</td>\n      <td>LEO</td>\n      <td>NASA</td>\n      <td>None</td>\n      <td>None</td>\n      <td>...</td>\n      <td>None</td>\n      <td>None</td>\n      <td>None</td>\n      <td>None</td>\n      <td>SpaceX CRS-19</td>\n      <td>Success\\n</td>\n      <td>F9 B5</td>\n      <td>Success</td>\n      <td>5 December 2019</td>\n      <td>17:29</td>\n    </tr>\n    <tr>\n      <th>76</th>\n      <td>77</td>\n      <td>None</td>\n      <td>None</td>\n      <td>CCAFS</td>\n      <td>None</td>\n      <td>6,956 kg</td>\n      <td>GTO</td>\n      <td>Sky Perfect JSAT</td>\n      <td>None</td>\n      <td>None</td>\n      <td>...</td>\n      <td>None</td>\n      <td>None</td>\n      <td>None</td>\n      <td>None</td>\n      <td>JCSat-18</td>\n      <td>Success\\n</td>\n      <td>F9 B5B1056.3</td>\n      <td>Success</td>\n      <td>17 December 2019</td>\n      <td>00:10</td>\n    </tr>\n    <tr>\n      <th>77</th>\n      <td>78</td>\n      <td>None</td>\n      <td>None</td>\n      <td>CCAFS</td>\n      <td>None</td>\n      <td>15,600 kg</td>\n      <td>LEO</td>\n      <td>SpaceX</td>\n      <td>None</td>\n      <td>None</td>\n      <td>...</td>\n      <td>None</td>\n      <td>None</td>\n      <td>None</td>\n      <td>None</td>\n      <td>Starlink</td>\n      <td>Success\\n</td>\n      <td>F9 B5</td>\n      <td>Success</td>\n      <td>7 January 2020</td>\n      <td>02:19:21</td>\n    </tr>\n    <tr>\n      <th>79</th>\n      <td>80</td>\n      <td>None</td>\n      <td>None</td>\n      <td>CCAFS</td>\n      <td>None</td>\n      <td>15,600 kg</td>\n      <td>LEO</td>\n      <td>SpaceX</td>\n      <td>None</td>\n      <td>None</td>\n      <td>...</td>\n      <td>None</td>\n      <td>None</td>\n      <td>None</td>\n      <td>None</td>\n      <td>Starlink</td>\n      <td>Success\\n</td>\n      <td>F9 B5</td>\n      <td>Success</td>\n      <td>29 January 2020</td>\n      <td>14:07</td>\n    </tr>\n    <tr>\n      <th>80</th>\n      <td>81</td>\n      <td>None</td>\n      <td>None</td>\n      <td>CCAFS</td>\n      <td>None</td>\n      <td>15,600 kg</td>\n      <td>LEO</td>\n      <td>SpaceX</td>\n      <td>None</td>\n      <td>None</td>\n      <td>...</td>\n      <td>None</td>\n      <td>None</td>\n      <td>None</td>\n      <td>None</td>\n      <td>Starlink</td>\n      <td>Success\\n</td>\n      <td>F9 B5</td>\n      <td>Failure</td>\n      <td>17 February 2020</td>\n      <td>15:05</td>\n    </tr>\n    <tr>\n      <th>81</th>\n      <td>82</td>\n      <td>None</td>\n      <td>None</td>\n      <td>CCAFS</td>\n      <td>None</td>\n      <td>1,977 kg</td>\n      <td>LEO</td>\n      <td>NASA</td>\n      <td>None</td>\n      <td>None</td>\n      <td>...</td>\n      <td>None</td>\n      <td>None</td>\n      <td>None</td>\n      <td>None</td>\n      <td>SpaceX CRS-20</td>\n      <td>Success\\n</td>\n      <td>F9 B5</td>\n      <td>Success</td>\n      <td>7 March 2020</td>\n      <td>04:50</td>\n    </tr>\n    <tr>\n      <th>85</th>\n      <td>86</td>\n      <td>None</td>\n      <td>None</td>\n      <td>CCAFS</td>\n      <td>None</td>\n      <td>15,600 kg</td>\n      <td>LEO</td>\n      <td>SpaceX</td>\n      <td>None</td>\n      <td>None</td>\n      <td>...</td>\n      <td>None</td>\n      <td>None</td>\n      <td>None</td>\n      <td>None</td>\n      <td>Starlink</td>\n      <td>Success\\n</td>\n      <td>F9 B5</td>\n      <td>Success</td>\n      <td>4 June 2020</td>\n      <td>01:25</td>\n    </tr>\n    <tr>\n      <th>86</th>\n      <td>87</td>\n      <td>None</td>\n      <td>None</td>\n      <td>CCAFS</td>\n      <td>None</td>\n      <td>15,410 kg</td>\n      <td>LEO</td>\n      <td>SpaceX</td>\n      <td>None</td>\n      <td>None</td>\n      <td>...</td>\n      <td>None</td>\n      <td>None</td>\n      <td>None</td>\n      <td>None</td>\n      <td>Starlink</td>\n      <td>Success\\n</td>\n      <td>F9 B5</td>\n      <td>Success</td>\n      <td>13 June 2020</td>\n      <td>09:21</td>\n    </tr>\n    <tr>\n      <th>87</th>\n      <td>88</td>\n      <td>None</td>\n      <td>None</td>\n      <td>CCAFS</td>\n      <td>None</td>\n      <td>4,311 kg</td>\n      <td>MEO</td>\n      <td>U.S. Space Force</td>\n      <td>None</td>\n      <td>None</td>\n      <td>...</td>\n      <td>None</td>\n      <td>None</td>\n      <td>None</td>\n      <td>None</td>\n      <td>GPS III</td>\n      <td>Success\\n</td>\n      <td>F9 B5</td>\n      <td>Success</td>\n      <td>30 June 2020</td>\n      <td>20:10:46</td>\n    </tr>\n    <tr>\n      <th>88</th>\n      <td>89</td>\n      <td>None</td>\n      <td>None</td>\n      <td>CCAFS</td>\n      <td>None</td>\n      <td>5,000\u20136,000 kg</td>\n      <td>GTO</td>\n      <td>Republic of Korea Army</td>\n      <td>None</td>\n      <td>None</td>\n      <td>...</td>\n      <td>None</td>\n      <td>None</td>\n      <td>None</td>\n      <td>None</td>\n      <td>ANASIS-II</td>\n      <td>Success\\n</td>\n      <td>F9 B5B1058.2</td>\n      <td>Success</td>\n      <td>20 July 2020</td>\n      <td>21:30</td>\n    </tr>\n    <tr>\n      <th>90</th>\n      <td>91</td>\n      <td>None</td>\n      <td>None</td>\n      <td>CCAFS</td>\n      <td>None</td>\n      <td>~15,440 kg</td>\n      <td>LEO</td>\n      <td>SpaceX</td>\n      <td>None</td>\n      <td>None</td>\n      <td>...</td>\n      <td>None</td>\n      <td>None</td>\n      <td>None</td>\n      <td>None</td>\n      <td>Starlink</td>\n      <td>Success\\n</td>\n      <td>F9 B5B1049.6</td>\n      <td>Success</td>\n      <td>18 August 2020</td>\n      <td>14:31</td>\n    </tr>\n    <tr>\n      <th>91</th>\n      <td>92</td>\n      <td>None</td>\n      <td>None</td>\n      <td>CCAFS</td>\n      <td>None</td>\n      <td>3,130 kg</td>\n      <td>SSO</td>\n      <td>CONAE</td>\n      <td>None</td>\n      <td>None</td>\n      <td>...</td>\n      <td>None</td>\n      <td>None</td>\n      <td>None</td>\n      <td>None</td>\n      <td>SAOCOM 1B</td>\n      <td>Success\\n</td>\n      <td>F9 B5</td>\n      <td>Success</td>\n      <td>30 August 2020</td>\n      <td>23:18</td>\n    </tr>\n    <tr>\n      <th>95</th>\n      <td>96</td>\n      <td>None</td>\n      <td>None</td>\n      <td>CCAFS</td>\n      <td>None</td>\n      <td>15,600 kg</td>\n      <td>LEO</td>\n      <td>SpaceX</td>\n      <td>None</td>\n      <td>None</td>\n      <td>...</td>\n      <td>None</td>\n      <td>None</td>\n      <td>None</td>\n      <td>None</td>\n      <td>Starlink</td>\n      <td>Success\\n</td>\n      <td>F9 B5</td>\n      <td>Success</td>\n      <td>24 October 2020</td>\n      <td>15:31:34</td>\n    </tr>\n    <tr>\n      <th>96</th>\n      <td>97</td>\n      <td>None</td>\n      <td>None</td>\n      <td>CCAFS</td>\n      <td>None</td>\n      <td>4,311 kg</td>\n      <td>MEO</td>\n      <td>USSF</td>\n      <td>None</td>\n      <td>None</td>\n      <td>...</td>\n      <td>None</td>\n      <td>None</td>\n      <td>None</td>\n      <td>None</td>\n      <td>GPS III</td>\n      <td>Success\\n</td>\n      <td>F9 B5</td>\n      <td>Success</td>\n      <td>5 November 2020</td>\n      <td>23:24:23</td>\n    </tr>\n    <tr>\n      <th>99</th>\n      <td>100</td>\n      <td>None</td>\n      <td>None</td>\n      <td>CCAFS</td>\n      <td>None</td>\n      <td>15,600 kg</td>\n      <td>LEO</td>\n      <td>SpaceX</td>\n      <td>None</td>\n      <td>None</td>\n      <td>...</td>\n      <td>None</td>\n      <td>None</td>\n      <td>None</td>\n      <td>None</td>\n      <td>Starlink</td>\n      <td>Success\\n</td>\n      <td>F9 B5 \u267a</td>\n      <td>Success</td>\n      <td>25 November 2020</td>\n      <td>02:13</td>\n    </tr>\n  </tbody>\n</table>\n<p>40 rows \u00d7 198 columns</p>\n</div>",
                        "text/plain": "   Flight No. Date andtime (UTC) Version,Booster [b] Launch site Payload[c]  \\\n0           1               None                None       CCAFS       None   \n1           2               None                None       CCAFS       None   \n2           3               None                None       CCAFS       None   \n3           4               None                None       CCAFS       None   \n4           5               None                None       CCAFS       None   \n6           7               None                None       CCAFS       None   \n7           8               None                None       CCAFS       None   \n46         47               None                None       CCAFS       None   \n47         48               None                None       CCAFS       None   \n49         50               None                None       CCAFS       None   \n51         52               None                None       CCAFS       None   \n52         53               None                None       CCAFS       None   \n55         56               None                None       CCAFS       None   \n56         57               None                None       CCAFS       None   \n57         58               None                None       CCAFS       None   \n59         60               None                None       CCAFS       None   \n60         61               None                None       CCAFS       None   \n64         65               None                None       CCAFS       None   \n65         66               None                None       CCAFS       None   \n67         68               None                None       CCAFS       None   \n69         70               None                None       CCAFS       None   \n70         71               None                None       CCAFS       None   \n72         73               None                None       CCAFS       None   \n73         74               None                None       CCAFS       None   \n74         75               None                None       CCAFS       None   \n75         76               None                None       CCAFS       None   \n76         77               None                None       CCAFS       None   \n77         78               None                None       CCAFS       None   \n79         80               None                None       CCAFS       None   \n80         81               None                None       CCAFS       None   \n81         82               None                None       CCAFS       None   \n85         86               None                None       CCAFS       None   \n86         87               None                None       CCAFS       None   \n87         88               None                None       CCAFS       None   \n88         89               None                None       CCAFS       None   \n90         91               None                None       CCAFS       None   \n91         92               None                None       CCAFS       None   \n95         96               None                None       CCAFS       None   \n96         97               None                None       CCAFS       None   \n99        100               None                None       CCAFS       None   \n\n      Payload mass Orbit                Customer Launchoutcome Boosterlanding  \\\n0                0   LEO                  SpaceX          None           None   \n1                0   LEO                    NASA          None           None   \n2           525 kg   LEO                    NASA          None           None   \n3         4,700 kg   LEO                    NASA          None           None   \n4         4,877 kg   LEO                    NASA          None           None   \n6         3,170 kg   GTO                     SES          None           None   \n7         3,325 kg   GTO                 Thaicom          None           None   \n46               C   LEO        Northrop Grumman          None           None   \n47        4,230 kg   GTO                     SES          None           None   \n49        6,092 kg   GTO                Hispasat          None           None   \n51        2,647 kg   LEO                    NASA          None           None   \n52          362 kg   HEO                    NASA          None           None   \n55        5,384 kg   GTO                     SES          None           None   \n56        2,697 kg   LEO                    NASA          None           None   \n57        7,075 kg   GTO                 Telesat          None           None   \n59        5,800 kg   GTO        Telkom Indonesia          None           None   \n60        7,060 kg   GTO                 Telesat          None           None   \n64        2,500 kg   LEO                    NASA          None           None   \n65        4,400 kg   MEO                    USAF          None           None   \n67        4,850 kg   GTO                     PSN          None           None   \n69        2,495 kg   LEO                    NASA          None           None   \n70       13,620 kg   LEO                  SpaceX          None           None   \n72        2,268 kg   LEO                    NASA          None           None   \n73        6,500 kg   GTO                Spacecom          None           None   \n74       15,600 kg   LEO                  SpaceX          None           None   \n75        2,617 kg   LEO                    NASA          None           None   \n76        6,956 kg   GTO        Sky Perfect JSAT          None           None   \n77       15,600 kg   LEO                  SpaceX          None           None   \n79       15,600 kg   LEO                  SpaceX          None           None   \n80       15,600 kg   LEO                  SpaceX          None           None   \n81        1,977 kg   LEO                    NASA          None           None   \n85       15,600 kg   LEO                  SpaceX          None           None   \n86       15,410 kg   LEO                  SpaceX          None           None   \n87        4,311 kg   MEO        U.S. Space Force          None           None   \n88  5,000\u20136,000 kg   GTO  Republic of Korea Army          None           None   \n90      ~15,440 kg   LEO                  SpaceX          None           None   \n91        3,130 kg   SSO                   CONAE          None           None   \n95       15,600 kg   LEO                  SpaceX          None           None   \n96        4,311 kg   MEO                    USSF          None           None   \n99       15,600 kg   LEO                  SpaceX          None           None   \n\n    ... Launches by rocket type Launches by spaceport  \\\n0   ...                    None                  None   \n1   ...                    None                  None   \n2   ...                    None                  None   \n3   ...                    None                  None   \n4   ...                    None                  None   \n6   ...                    None                  None   \n7   ...                    None                  None   \n46  ...                    None                  None   \n47  ...                    None                  None   \n49  ...                    None                  None   \n51  ...                    None                  None   \n52  ...                    None                  None   \n55  ...                    None                  None   \n56  ...                    None                  None   \n57  ...                    None                  None   \n59  ...                    None                  None   \n60  ...                    None                  None   \n64  ...                    None                  None   \n65  ...                    None                  None   \n67  ...                    None                  None   \n69  ...                    None                  None   \n70  ...                    None                  None   \n72  ...                    None                  None   \n73  ...                    None                  None   \n74  ...                    None                  None   \n75  ...                    None                  None   \n76  ...                    None                  None   \n77  ...                    None                  None   \n79  ...                    None                  None   \n80  ...                    None                  None   \n81  ...                    None                  None   \n85  ...                    None                  None   \n86  ...                    None                  None   \n87  ...                    None                  None   \n88  ...                    None                  None   \n90  ...                    None                  None   \n91  ...                    None                  None   \n95  ...                    None                  None   \n96  ...                    None                  None   \n99  ...                    None                  None   \n\n   Agencies, companiesand facilities Other mission listsand timelines  \\\n0                               None                             None   \n1                               None                             None   \n2                               None                             None   \n3                               None                             None   \n4                               None                             None   \n6                               None                             None   \n7                               None                             None   \n46                              None                             None   \n47                              None                             None   \n49                              None                             None   \n51                              None                             None   \n52                              None                             None   \n55                              None                             None   \n56                              None                             None   \n57                              None                             None   \n59                              None                             None   \n60                              None                             None   \n64                              None                             None   \n65                              None                             None   \n67                              None                             None   \n69                              None                             None   \n70                              None                             None   \n72                              None                             None   \n73                              None                             None   \n74                              None                             None   \n75                              None                             None   \n76                              None                             None   \n77                              None                             None   \n79                              None                             None   \n80                              None                             None   \n81                              None                             None   \n85                              None                             None   \n86                              None                             None   \n87                              None                             None   \n88                              None                             None   \n90                              None                             None   \n91                              None                             None   \n95                              None                             None   \n96                              None                             None   \n99                              None                             None   \n\n                                  Payload Launch outcome Version Booster  \\\n0    Dragon Spacecraft Qualification Unit      Success\\n  F9 v1.0B0003.1   \n1                                  Dragon        Success  F9 v1.0B0004.1   \n2                                  Dragon        Success  F9 v1.0B0005.1   \n3                            SpaceX CRS-1      Success\\n  F9 v1.0B0006.1   \n4                            SpaceX CRS-2      Success\\n  F9 v1.0B0007.1   \n6                                   SES-8        Success         F9 v1.1   \n7                               Thaicom 6        Success         F9 v1.1   \n46                                   Zuma        Success           F9 B4   \n47                               GovSat-1        Success    F9 FTB1032.2   \n49                         Hispasat 30W-6        Success           F9 B4   \n51                          SpaceX CRS-14        Success    F9 B4B1039.2   \n52  Transiting Exoplanet Survey Satellite        Success           F9 B4   \n55                                 SES-12        Success    F9 B4B1040.2   \n56                          SpaceX CRS-15        Success    F9 B4B1045.2   \n57                            Telstar 19V        Success           F9 B5   \n59                            Merah Putih        Success    F9 B5B1046.2   \n60                            Telstar 18V        Success           F9 B5   \n64                          SpaceX CRS-16      Success\\n           F9 B5   \n65                                GPS III        Success           F9 B5   \n67                         Nusantara Satu      Success\\n    F9 B5B1048.3   \n69                          SpaceX CRS-17      Success\\n           F9 B5   \n70                               Starlink      Success\\n    F9 B5B1049.3   \n72                          SpaceX CRS-18      Success\\n    F9 B5B1056.2   \n73                                AMOS-17      Success\\n    F9 B5B1047.3   \n74                               Starlink      Success\\n           F9 B5   \n75                          SpaceX CRS-19      Success\\n           F9 B5   \n76                               JCSat-18      Success\\n    F9 B5B1056.3   \n77                               Starlink      Success\\n           F9 B5   \n79                               Starlink      Success\\n           F9 B5   \n80                               Starlink      Success\\n           F9 B5   \n81                          SpaceX CRS-20      Success\\n           F9 B5   \n85                               Starlink      Success\\n           F9 B5   \n86                               Starlink      Success\\n           F9 B5   \n87                                GPS III      Success\\n           F9 B5   \n88                              ANASIS-II      Success\\n    F9 B5B1058.2   \n90                               Starlink      Success\\n    F9 B5B1049.6   \n91                              SAOCOM 1B      Success\\n           F9 B5   \n95                               Starlink      Success\\n           F9 B5   \n96                                GPS III      Success\\n           F9 B5   \n99                               Starlink      Success\\n         F9 B5 \u267a   \n\n   Booster landing               Date      Time  \n0          Failure        4 June 2010     18:45  \n1          Failure    8 December 2010     15:43  \n2     No attempt\\n        22 May 2012     07:44  \n3       No attempt     8 October 2012     00:35  \n4     No attempt\\n       1 March 2013     15:10  \n6       No attempt    3 December 2013     22:41  \n7       No attempt     6 January 2014     22:06  \n46         Success     8 January 2018     01:00  \n47      Controlled    31 January 2018     21:25  \n49      No attempt       6 March 2018     05:33  \n51      No attempt       2 April 2018     20:30  \n52         Success      18 April 2018     22:51  \n55      No attempt        4 June 2018     04:45  \n56      No attempt       29 June 2018     09:42  \n57         Success       22 July 2018     05:50  \n59         Success      7 August 2018     05:18  \n60         Success  10 September 2018     04:45  \n64         Failure    5 December 2018     18:16  \n65      No attempt   23 December 2018     13:51  \n67         Success   22 February 2019     01:45  \n69         Success         4 May 2019     06:48  \n70         Success        24 May 2019     02:30  \n72         Success       25 July 2019     22:01  \n73      No attempt      6 August 2019     23:23  \n74         Success   11 November 2019     14:56  \n75         Success    5 December 2019     17:29  \n76         Success   17 December 2019     00:10  \n77         Success     7 January 2020  02:19:21  \n79         Success    29 January 2020     14:07  \n80         Failure   17 February 2020     15:05  \n81         Success       7 March 2020     04:50  \n85         Success        4 June 2020     01:25  \n86         Success       13 June 2020     09:21  \n87         Success       30 June 2020  20:10:46  \n88         Success       20 July 2020     21:30  \n90         Success     18 August 2020     14:31  \n91         Success     30 August 2020     23:18  \n95         Success    24 October 2020  15:31:34  \n96         Success    5 November 2020  23:24:23  \n99         Success   25 November 2020     02:13  \n\n[40 rows x 198 columns]"
                    },
                    "execution_count": 34,
                    "metadata": {},
                    "output_type": "execute_result"
                }
            ],
            "source": "df[df['Launch site'] == 'CCAFS']"
        },
        {
            "cell_type": "code",
            "execution_count": 35,
            "metadata": {},
            "outputs": [
                {
                    "data": {
                        "text/plain": "CCAFS             40\nKSC               33\nCape Canaveral    20\nVAFB              16\nCCSFS             12\nName: Launch site, dtype: int64"
                    },
                    "execution_count": 35,
                    "metadata": {},
                    "output_type": "execute_result"
                }
            ],
            "source": "df['Launch site'].value_counts()"
        },
        {
            "cell_type": "code",
            "execution_count": 36,
            "metadata": {},
            "outputs": [
                {
                    "data": {
                        "text/html": "<div>\n<style scoped>\n    .dataframe tbody tr th:only-of-type {\n        vertical-align: middle;\n    }\n\n    .dataframe tbody tr th {\n        vertical-align: top;\n    }\n\n    .dataframe thead th {\n        text-align: right;\n    }\n</style>\n<table border=\"1\" class=\"dataframe\">\n  <thead>\n    <tr style=\"text-align: right;\">\n      <th></th>\n      <th>Flight No.</th>\n      <th>Date andtime (UTC)</th>\n      <th>Version,Booster [b]</th>\n      <th>Launch site</th>\n      <th>Payload[c]</th>\n      <th>Payload mass</th>\n      <th>Orbit</th>\n      <th>Customer</th>\n      <th>Launchoutcome</th>\n      <th>Boosterlanding</th>\n      <th>...</th>\n      <th>Launches by rocket type</th>\n      <th>Launches by spaceport</th>\n      <th>Agencies, companiesand facilities</th>\n      <th>Other mission listsand timelines</th>\n      <th>Payload</th>\n      <th>Launch outcome</th>\n      <th>Version Booster</th>\n      <th>Booster landing</th>\n      <th>Date</th>\n      <th>Time</th>\n    </tr>\n  </thead>\n  <tbody>\n  </tbody>\n</table>\n<p>0 rows \u00d7 198 columns</p>\n</div>",
                        "text/plain": "Empty DataFrame\nColumns: [Flight No., Date andtime (UTC), Version,Booster [b], Launch site, Payload[c], Payload mass, Orbit, Customer, Launchoutcome, Boosterlanding, 1, 2, 3, 4, 5, 6, 7, Version,Booster[b], 8, 9, 10, 11, 12, 13, 14, 15, 16, 17, 18, 19, 20, 21, 22, 23, 24, 25, 26, 27, 28, N/A [e], 29, 30, 31, 32, 33, 34, 35, 36, 37, 38, 39, 40, 41, 42, 43, 44, 45, 46, 47, 48, FH 1, 49, 50, 51, 52, 53, 54, 55, 56, 57, 58, 59, 60, 61, 62, 63, 64, 65, 66, Launchsite, 67, 68, 69, FH 2, 70, 71, 72, FH 3, 73, 74, 75, 76, 77, 78, 79, 80, 81, 82, 83, 84, ...]\nIndex: []\n\n[0 rows x 198 columns]"
                    },
                    "execution_count": 36,
                    "metadata": {},
                    "output_type": "execute_result"
                }
            ],
            "source": "df.loc[((df['Launch site'] == 'CCAFS') & (df['Booster landing'] == \"Success\\n\"))]"
        },
        {
            "cell_type": "code",
            "execution_count": 37,
            "metadata": {},
            "outputs": [
                {
                    "data": {
                        "text/plain": "LEO            67\nGTO            33\nSSO             7\nPolar           7\nMEO             3\nHEO             2\nSub-orbital     1\nPolar orbit     1\nName: Orbit, dtype: int64"
                    },
                    "execution_count": 37,
                    "metadata": {},
                    "output_type": "execute_result"
                }
            ],
            "source": "df['Orbit'].value_counts()"
        },
        {
            "cell_type": "code",
            "execution_count": 38,
            "metadata": {},
            "outputs": [
                {
                    "data": {
                        "text/html": "<div>\n<style scoped>\n    .dataframe tbody tr th:only-of-type {\n        vertical-align: middle;\n    }\n\n    .dataframe tbody tr th {\n        vertical-align: top;\n    }\n\n    .dataframe thead th {\n        text-align: right;\n    }\n</style>\n<table border=\"1\" class=\"dataframe\">\n  <thead>\n    <tr style=\"text-align: right;\">\n      <th></th>\n      <th>Flight No.</th>\n      <th>Date andtime (UTC)</th>\n      <th>Version,Booster [b]</th>\n      <th>Launch site</th>\n      <th>Payload[c]</th>\n      <th>Payload mass</th>\n      <th>Orbit</th>\n      <th>Customer</th>\n      <th>Launchoutcome</th>\n      <th>Boosterlanding</th>\n      <th>...</th>\n      <th>Launches by rocket type</th>\n      <th>Launches by spaceport</th>\n      <th>Agencies, companiesand facilities</th>\n      <th>Other mission listsand timelines</th>\n      <th>Payload</th>\n      <th>Launch outcome</th>\n      <th>Version Booster</th>\n      <th>Booster landing</th>\n      <th>Date</th>\n      <th>Time</th>\n    </tr>\n  </thead>\n  <tbody>\n  </tbody>\n</table>\n<p>0 rows \u00d7 198 columns</p>\n</div>",
                        "text/plain": "Empty DataFrame\nColumns: [Flight No., Date andtime (UTC), Version,Booster [b], Launch site, Payload[c], Payload mass, Orbit, Customer, Launchoutcome, Boosterlanding, 1, 2, 3, 4, 5, 6, 7, Version,Booster[b], 8, 9, 10, 11, 12, 13, 14, 15, 16, 17, 18, 19, 20, 21, 22, 23, 24, 25, 26, 27, 28, N/A [e], 29, 30, 31, 32, 33, 34, 35, 36, 37, 38, 39, 40, 41, 42, 43, 44, 45, 46, 47, 48, FH 1, 49, 50, 51, 52, 53, 54, 55, 56, 57, 58, 59, 60, 61, 62, 63, 64, 65, 66, Launchsite, 67, 68, 69, FH 2, 70, 71, 72, FH 3, 73, 74, 75, 76, 77, 78, 79, 80, 81, 82, 83, 84, ...]\nIndex: []\n\n[0 rows x 198 columns]"
                    },
                    "execution_count": 38,
                    "metadata": {},
                    "output_type": "execute_result"
                }
            ],
            "source": "df[df['Launch outcome'] == 'none']"
        },
        {
            "cell_type": "code",
            "execution_count": 40,
            "metadata": {
                "scrolled": true
            },
            "outputs": [
                {
                    "data": {
                        "text/html": "<div>\n<style scoped>\n    .dataframe tbody tr th:only-of-type {\n        vertical-align: middle;\n    }\n\n    .dataframe tbody tr th {\n        vertical-align: top;\n    }\n\n    .dataframe thead th {\n        text-align: right;\n    }\n</style>\n<table border=\"1\" class=\"dataframe\">\n  <thead>\n    <tr style=\"text-align: right;\">\n      <th></th>\n      <th>Flight No.</th>\n      <th>Date andtime (UTC)</th>\n      <th>Version,Booster [b]</th>\n      <th>Launch site</th>\n      <th>Payload[c]</th>\n      <th>Payload mass</th>\n      <th>Orbit</th>\n      <th>Customer</th>\n      <th>Launchoutcome</th>\n      <th>Boosterlanding</th>\n      <th>...</th>\n      <th>Launches by rocket type</th>\n      <th>Launches by spaceport</th>\n      <th>Agencies, companiesand facilities</th>\n      <th>Other mission listsand timelines</th>\n      <th>Payload</th>\n      <th>Launch outcome</th>\n      <th>Version Booster</th>\n      <th>Booster landing</th>\n      <th>Date</th>\n      <th>Time</th>\n    </tr>\n  </thead>\n  <tbody>\n    <tr>\n      <th>0</th>\n      <td>1</td>\n      <td>None</td>\n      <td>None</td>\n      <td>CCAFS</td>\n      <td>None</td>\n      <td>0</td>\n      <td>LEO</td>\n      <td>SpaceX</td>\n      <td>None</td>\n      <td>None</td>\n      <td>...</td>\n      <td>None</td>\n      <td>None</td>\n      <td>None</td>\n      <td>None</td>\n      <td>Dragon Spacecraft Qualification Unit</td>\n      <td>Success\\n</td>\n      <td>F9 v1.0B0003.1</td>\n      <td>Failure</td>\n      <td>4 June 2010</td>\n      <td>18:45</td>\n    </tr>\n    <tr>\n      <th>3</th>\n      <td>4</td>\n      <td>None</td>\n      <td>None</td>\n      <td>CCAFS</td>\n      <td>None</td>\n      <td>4,700 kg</td>\n      <td>LEO</td>\n      <td>NASA</td>\n      <td>None</td>\n      <td>None</td>\n      <td>...</td>\n      <td>None</td>\n      <td>None</td>\n      <td>None</td>\n      <td>None</td>\n      <td>SpaceX CRS-1</td>\n      <td>Success\\n</td>\n      <td>F9 v1.0B0006.1</td>\n      <td>No attempt</td>\n      <td>8 October 2012</td>\n      <td>00:35</td>\n    </tr>\n    <tr>\n      <th>4</th>\n      <td>5</td>\n      <td>None</td>\n      <td>None</td>\n      <td>CCAFS</td>\n      <td>None</td>\n      <td>4,877 kg</td>\n      <td>LEO</td>\n      <td>NASA</td>\n      <td>None</td>\n      <td>None</td>\n      <td>...</td>\n      <td>None</td>\n      <td>None</td>\n      <td>None</td>\n      <td>None</td>\n      <td>SpaceX CRS-2</td>\n      <td>Success\\n</td>\n      <td>F9 v1.0B0007.1</td>\n      <td>No attempt\\n</td>\n      <td>1 March 2013</td>\n      <td>15:10</td>\n    </tr>\n    <tr>\n      <th>8</th>\n      <td>9</td>\n      <td>None</td>\n      <td>None</td>\n      <td>Cape Canaveral</td>\n      <td>None</td>\n      <td>2,296 kg</td>\n      <td>LEO</td>\n      <td>NASA</td>\n      <td>None</td>\n      <td>None</td>\n      <td>...</td>\n      <td>None</td>\n      <td>None</td>\n      <td>None</td>\n      <td>None</td>\n      <td>SpaceX CRS-3</td>\n      <td>Success\\n</td>\n      <td>F9 v1.1</td>\n      <td>Controlled</td>\n      <td>18 April 2014</td>\n      <td>19:25</td>\n    </tr>\n    <tr>\n      <th>14</th>\n      <td>15</td>\n      <td>None</td>\n      <td>None</td>\n      <td>Cape Canaveral</td>\n      <td>None</td>\n      <td>570 kg</td>\n      <td>HEO</td>\n      <td>USAF</td>\n      <td>None</td>\n      <td>None</td>\n      <td>...</td>\n      <td>None</td>\n      <td>None</td>\n      <td>None</td>\n      <td>None</td>\n      <td>DSCOVR</td>\n      <td>Success\\n</td>\n      <td>F9 v1.1</td>\n      <td>Controlled</td>\n      <td>11 February 2015</td>\n      <td>23:03</td>\n    </tr>\n    <tr>\n      <th>...</th>\n      <td>...</td>\n      <td>...</td>\n      <td>...</td>\n      <td>...</td>\n      <td>...</td>\n      <td>...</td>\n      <td>...</td>\n      <td>...</td>\n      <td>...</td>\n      <td>...</td>\n      <td>...</td>\n      <td>...</td>\n      <td>...</td>\n      <td>...</td>\n      <td>...</td>\n      <td>...</td>\n      <td>...</td>\n      <td>...</td>\n      <td>...</td>\n      <td>...</td>\n      <td>...</td>\n    </tr>\n    <tr>\n      <th>116</th>\n      <td>117</td>\n      <td>None</td>\n      <td>None</td>\n      <td>CCSFS</td>\n      <td>None</td>\n      <td>15,600 kg</td>\n      <td>LEO</td>\n      <td>SpaceX</td>\n      <td>None</td>\n      <td>None</td>\n      <td>...</td>\n      <td>None</td>\n      <td>None</td>\n      <td>None</td>\n      <td>None</td>\n      <td>Starlink</td>\n      <td>Success\\n</td>\n      <td>F9 B5B1051.10</td>\n      <td>Success</td>\n      <td>9 May 2021</td>\n      <td>06:42</td>\n    </tr>\n    <tr>\n      <th>117</th>\n      <td>118</td>\n      <td>None</td>\n      <td>None</td>\n      <td>KSC</td>\n      <td>None</td>\n      <td>~14,000 kg</td>\n      <td>LEO</td>\n      <td>SpaceX</td>\n      <td>None</td>\n      <td>None</td>\n      <td>...</td>\n      <td>None</td>\n      <td>None</td>\n      <td>None</td>\n      <td>None</td>\n      <td>Starlink</td>\n      <td>Success\\n</td>\n      <td>F9 B5B1058.8</td>\n      <td>Success</td>\n      <td>15 May 2021</td>\n      <td>22:56</td>\n    </tr>\n    <tr>\n      <th>118</th>\n      <td>119</td>\n      <td>None</td>\n      <td>None</td>\n      <td>CCSFS</td>\n      <td>None</td>\n      <td>15,600 kg</td>\n      <td>LEO</td>\n      <td>SpaceX</td>\n      <td>None</td>\n      <td>None</td>\n      <td>...</td>\n      <td>None</td>\n      <td>None</td>\n      <td>None</td>\n      <td>None</td>\n      <td>Starlink</td>\n      <td>Success\\n</td>\n      <td>F9 B5B1063.2</td>\n      <td>Success</td>\n      <td>26 May 2021</td>\n      <td>18:59</td>\n    </tr>\n    <tr>\n      <th>119</th>\n      <td>120</td>\n      <td>None</td>\n      <td>None</td>\n      <td>KSC</td>\n      <td>None</td>\n      <td>3,328 kg</td>\n      <td>LEO</td>\n      <td>NASA</td>\n      <td>None</td>\n      <td>None</td>\n      <td>...</td>\n      <td>None</td>\n      <td>None</td>\n      <td>None</td>\n      <td>None</td>\n      <td>SpaceX CRS-22</td>\n      <td>Success\\n</td>\n      <td>F9 B5B1067.1</td>\n      <td>Success</td>\n      <td>3 June 2021</td>\n      <td>17:29</td>\n    </tr>\n    <tr>\n      <th>120</th>\n      <td>121</td>\n      <td>None</td>\n      <td>None</td>\n      <td>CCSFS</td>\n      <td>None</td>\n      <td>7,000 kg</td>\n      <td>GTO</td>\n      <td>Sirius XM</td>\n      <td>None</td>\n      <td>None</td>\n      <td>...</td>\n      <td>None</td>\n      <td>None</td>\n      <td>None</td>\n      <td>None</td>\n      <td>SXM-8</td>\n      <td>Success\\n</td>\n      <td>F9 B5</td>\n      <td>Success</td>\n      <td>6 June 2021</td>\n      <td>04:26</td>\n    </tr>\n  </tbody>\n</table>\n<p>88 rows \u00d7 198 columns</p>\n</div>",
                        "text/plain": "    Flight No. Date andtime (UTC) Version,Booster [b]     Launch site  \\\n0            1               None                None           CCAFS   \n3            4               None                None           CCAFS   \n4            5               None                None           CCAFS   \n8            9               None                None  Cape Canaveral   \n14          15               None                None  Cape Canaveral   \n..         ...                ...                 ...             ...   \n116        117               None                None           CCSFS   \n117        118               None                None             KSC   \n118        119               None                None           CCSFS   \n119        120               None                None             KSC   \n120        121               None                None           CCSFS   \n\n    Payload[c] Payload mass Orbit   Customer Launchoutcome Boosterlanding  \\\n0         None            0   LEO     SpaceX          None           None   \n3         None     4,700 kg   LEO       NASA          None           None   \n4         None     4,877 kg   LEO       NASA          None           None   \n8         None     2,296 kg   LEO       NASA          None           None   \n14        None       570 kg   HEO       USAF          None           None   \n..         ...          ...   ...        ...           ...            ...   \n116       None    15,600 kg   LEO     SpaceX          None           None   \n117       None   ~14,000 kg   LEO     SpaceX          None           None   \n118       None    15,600 kg   LEO     SpaceX          None           None   \n119       None     3,328 kg   LEO       NASA          None           None   \n120       None     7,000 kg   GTO  Sirius XM          None           None   \n\n     ... Launches by rocket type Launches by spaceport  \\\n0    ...                    None                  None   \n3    ...                    None                  None   \n4    ...                    None                  None   \n8    ...                    None                  None   \n14   ...                    None                  None   \n..   ...                     ...                   ...   \n116  ...                    None                  None   \n117  ...                    None                  None   \n118  ...                    None                  None   \n119  ...                    None                  None   \n120  ...                    None                  None   \n\n    Agencies, companiesand facilities Other mission listsand timelines  \\\n0                                None                             None   \n3                                None                             None   \n4                                None                             None   \n8                                None                             None   \n14                               None                             None   \n..                                ...                              ...   \n116                              None                             None   \n117                              None                             None   \n118                              None                             None   \n119                              None                             None   \n120                              None                             None   \n\n                                  Payload Launch outcome Version Booster  \\\n0    Dragon Spacecraft Qualification Unit      Success\\n  F9 v1.0B0003.1   \n3                            SpaceX CRS-1      Success\\n  F9 v1.0B0006.1   \n4                            SpaceX CRS-2      Success\\n  F9 v1.0B0007.1   \n8                            SpaceX CRS-3      Success\\n         F9 v1.1   \n14                                 DSCOVR      Success\\n         F9 v1.1   \n..                                    ...            ...             ...   \n116                              Starlink      Success\\n   F9 B5B1051.10   \n117                              Starlink      Success\\n    F9 B5B1058.8   \n118                              Starlink      Success\\n    F9 B5B1063.2   \n119                         SpaceX CRS-22      Success\\n    F9 B5B1067.1   \n120                                 SXM-8      Success\\n           F9 B5   \n\n    Booster landing              Date   Time  \n0           Failure       4 June 2010  18:45  \n3        No attempt    8 October 2012  00:35  \n4      No attempt\\n      1 March 2013  15:10  \n8        Controlled     18 April 2014  19:25  \n14       Controlled  11 February 2015  23:03  \n..              ...               ...    ...  \n116         Success        9 May 2021  06:42  \n117         Success       15 May 2021  22:56  \n118         Success       26 May 2021  18:59  \n119         Success       3 June 2021  17:29  \n120         Success       6 June 2021  04:26  \n\n[88 rows x 198 columns]"
                    },
                    "execution_count": 40,
                    "metadata": {},
                    "output_type": "execute_result"
                }
            ],
            "source": "df[df['Launch outcome'] == 'Success\\n']"
        },
        {
            "cell_type": "code",
            "execution_count": 41,
            "metadata": {},
            "outputs": [
                {
                    "data": {
                        "text/html": "<div>\n<style scoped>\n    .dataframe tbody tr th:only-of-type {\n        vertical-align: middle;\n    }\n\n    .dataframe tbody tr th {\n        vertical-align: top;\n    }\n\n    .dataframe thead th {\n        text-align: right;\n    }\n</style>\n<table border=\"1\" class=\"dataframe\">\n  <thead>\n    <tr style=\"text-align: right;\">\n      <th></th>\n      <th>Flight No.</th>\n      <th>Date andtime (UTC)</th>\n      <th>Version,Booster [b]</th>\n      <th>Launch site</th>\n      <th>Payload[c]</th>\n      <th>Payload mass</th>\n      <th>Orbit</th>\n      <th>Customer</th>\n      <th>Launchoutcome</th>\n      <th>Boosterlanding</th>\n      <th>...</th>\n      <th>Launches by rocket type</th>\n      <th>Launches by spaceport</th>\n      <th>Agencies, companiesand facilities</th>\n      <th>Other mission listsand timelines</th>\n      <th>Payload</th>\n      <th>Launch outcome</th>\n      <th>Version Booster</th>\n      <th>Booster landing</th>\n      <th>Date</th>\n      <th>Time</th>\n    </tr>\n  </thead>\n  <tbody>\n    <tr>\n      <th>1</th>\n      <td>2</td>\n      <td>None</td>\n      <td>None</td>\n      <td>CCAFS</td>\n      <td>None</td>\n      <td>0</td>\n      <td>LEO</td>\n      <td>NASA</td>\n      <td>None</td>\n      <td>None</td>\n      <td>...</td>\n      <td>None</td>\n      <td>None</td>\n      <td>None</td>\n      <td>None</td>\n      <td>Dragon</td>\n      <td>Success</td>\n      <td>F9 v1.0B0004.1</td>\n      <td>Failure</td>\n      <td>8 December 2010</td>\n      <td>15:43</td>\n    </tr>\n    <tr>\n      <th>2</th>\n      <td>3</td>\n      <td>None</td>\n      <td>None</td>\n      <td>CCAFS</td>\n      <td>None</td>\n      <td>525 kg</td>\n      <td>LEO</td>\n      <td>NASA</td>\n      <td>None</td>\n      <td>None</td>\n      <td>...</td>\n      <td>None</td>\n      <td>None</td>\n      <td>None</td>\n      <td>None</td>\n      <td>Dragon</td>\n      <td>Success</td>\n      <td>F9 v1.0B0005.1</td>\n      <td>No attempt\\n</td>\n      <td>22 May 2012</td>\n      <td>07:44</td>\n    </tr>\n    <tr>\n      <th>5</th>\n      <td>6</td>\n      <td>None</td>\n      <td>None</td>\n      <td>VAFB</td>\n      <td>None</td>\n      <td>500 kg</td>\n      <td>Polar orbit</td>\n      <td>MDA</td>\n      <td>None</td>\n      <td>None</td>\n      <td>...</td>\n      <td>None</td>\n      <td>None</td>\n      <td>None</td>\n      <td>None</td>\n      <td>CASSIOPE</td>\n      <td>Success</td>\n      <td>F9 v1.1B1003</td>\n      <td>Uncontrolled</td>\n      <td>29 September 2013</td>\n      <td>16:00</td>\n    </tr>\n    <tr>\n      <th>6</th>\n      <td>7</td>\n      <td>None</td>\n      <td>None</td>\n      <td>CCAFS</td>\n      <td>None</td>\n      <td>3,170 kg</td>\n      <td>GTO</td>\n      <td>SES</td>\n      <td>None</td>\n      <td>None</td>\n      <td>...</td>\n      <td>None</td>\n      <td>None</td>\n      <td>None</td>\n      <td>None</td>\n      <td>SES-8</td>\n      <td>Success</td>\n      <td>F9 v1.1</td>\n      <td>No attempt</td>\n      <td>3 December 2013</td>\n      <td>22:41</td>\n    </tr>\n    <tr>\n      <th>7</th>\n      <td>8</td>\n      <td>None</td>\n      <td>None</td>\n      <td>CCAFS</td>\n      <td>None</td>\n      <td>3,325 kg</td>\n      <td>GTO</td>\n      <td>Thaicom</td>\n      <td>None</td>\n      <td>None</td>\n      <td>...</td>\n      <td>None</td>\n      <td>None</td>\n      <td>None</td>\n      <td>None</td>\n      <td>Thaicom 6</td>\n      <td>Success</td>\n      <td>F9 v1.1</td>\n      <td>No attempt</td>\n      <td>6 January 2014</td>\n      <td>22:06</td>\n    </tr>\n    <tr>\n      <th>9</th>\n      <td>10</td>\n      <td>None</td>\n      <td>None</td>\n      <td>Cape Canaveral</td>\n      <td>None</td>\n      <td>1,316 kg</td>\n      <td>LEO</td>\n      <td>Orbcomm</td>\n      <td>None</td>\n      <td>None</td>\n      <td>...</td>\n      <td>None</td>\n      <td>None</td>\n      <td>None</td>\n      <td>None</td>\n      <td>Orbcomm-OG2</td>\n      <td>Success</td>\n      <td>F9 v1.1</td>\n      <td>Controlled</td>\n      <td>14 July 2014</td>\n      <td>15:15</td>\n    </tr>\n    <tr>\n      <th>10</th>\n      <td>11</td>\n      <td>None</td>\n      <td>None</td>\n      <td>Cape Canaveral</td>\n      <td>None</td>\n      <td>4,535 kg</td>\n      <td>GTO</td>\n      <td>AsiaSat</td>\n      <td>None</td>\n      <td>None</td>\n      <td>...</td>\n      <td>None</td>\n      <td>None</td>\n      <td>None</td>\n      <td>None</td>\n      <td>AsiaSat 8</td>\n      <td>Success</td>\n      <td>F9 v1.1</td>\n      <td>No attempt</td>\n      <td>5 August 2014</td>\n      <td>08:00</td>\n    </tr>\n    <tr>\n      <th>11</th>\n      <td>12</td>\n      <td>None</td>\n      <td>None</td>\n      <td>Cape Canaveral</td>\n      <td>None</td>\n      <td>4,428 kg</td>\n      <td>GTO</td>\n      <td>AsiaSat</td>\n      <td>None</td>\n      <td>None</td>\n      <td>...</td>\n      <td>None</td>\n      <td>None</td>\n      <td>None</td>\n      <td>None</td>\n      <td>AsiaSat 6</td>\n      <td>Success</td>\n      <td>F9 v1.1</td>\n      <td>No attempt\\n</td>\n      <td>7 September 2014</td>\n      <td>05:00</td>\n    </tr>\n    <tr>\n      <th>12</th>\n      <td>13</td>\n      <td>None</td>\n      <td>None</td>\n      <td>Cape Canaveral</td>\n      <td>None</td>\n      <td>2,216 kg</td>\n      <td>LEO</td>\n      <td>NASA</td>\n      <td>None</td>\n      <td>None</td>\n      <td>...</td>\n      <td>None</td>\n      <td>None</td>\n      <td>None</td>\n      <td>None</td>\n      <td>SpaceX CRS-4</td>\n      <td>Success</td>\n      <td>F9 v1.1</td>\n      <td>Uncontrolled</td>\n      <td>21 September 2014</td>\n      <td>05:52</td>\n    </tr>\n    <tr>\n      <th>13</th>\n      <td>14</td>\n      <td>None</td>\n      <td>None</td>\n      <td>Cape Canaveral</td>\n      <td>None</td>\n      <td>2,395 kg</td>\n      <td>LEO</td>\n      <td>NASA</td>\n      <td>None</td>\n      <td>None</td>\n      <td>...</td>\n      <td>None</td>\n      <td>None</td>\n      <td>None</td>\n      <td>None</td>\n      <td>SpaceX CRS-5</td>\n      <td>Success</td>\n      <td>F9 v1.1</td>\n      <td>Failure</td>\n      <td>10 January 2015</td>\n      <td>09:47</td>\n    </tr>\n    <tr>\n      <th>22</th>\n      <td>23</td>\n      <td>None</td>\n      <td>None</td>\n      <td>Cape Canaveral</td>\n      <td>None</td>\n      <td>3,136 kg</td>\n      <td>LEO</td>\n      <td>NASA</td>\n      <td>None</td>\n      <td>None</td>\n      <td>...</td>\n      <td>None</td>\n      <td>None</td>\n      <td>None</td>\n      <td>None</td>\n      <td>SpaceX CRS-8</td>\n      <td>Success</td>\n      <td>F9 FT</td>\n      <td>Success</td>\n      <td>8 April 2016</td>\n      <td>20:43</td>\n    </tr>\n    <tr>\n      <th>31</th>\n      <td>32</td>\n      <td>None</td>\n      <td>None</td>\n      <td>KSC</td>\n      <td>None</td>\n      <td>5,300 kg</td>\n      <td>GTO</td>\n      <td>SES</td>\n      <td>None</td>\n      <td>None</td>\n      <td>...</td>\n      <td>None</td>\n      <td>None</td>\n      <td>None</td>\n      <td>None</td>\n      <td>SES-10</td>\n      <td>Success</td>\n      <td>F9 FT\u267a</td>\n      <td>Success</td>\n      <td>30 March 2017</td>\n      <td>22:27</td>\n    </tr>\n    <tr>\n      <th>45</th>\n      <td>46</td>\n      <td>None</td>\n      <td>None</td>\n      <td>VAFB</td>\n      <td>None</td>\n      <td>9,600 kg</td>\n      <td>Polar</td>\n      <td>Iridium Communications</td>\n      <td>None</td>\n      <td>None</td>\n      <td>...</td>\n      <td>None</td>\n      <td>None</td>\n      <td>None</td>\n      <td>None</td>\n      <td>Iridium NEXT</td>\n      <td>Success</td>\n      <td>F9 FTB1036.2</td>\n      <td>Controlled</td>\n      <td>23 December 2017</td>\n      <td>01:27</td>\n    </tr>\n    <tr>\n      <th>46</th>\n      <td>47</td>\n      <td>None</td>\n      <td>None</td>\n      <td>CCAFS</td>\n      <td>None</td>\n      <td>C</td>\n      <td>LEO</td>\n      <td>Northrop Grumman</td>\n      <td>None</td>\n      <td>None</td>\n      <td>...</td>\n      <td>None</td>\n      <td>None</td>\n      <td>None</td>\n      <td>None</td>\n      <td>Zuma</td>\n      <td>Success</td>\n      <td>F9 B4</td>\n      <td>Success</td>\n      <td>8 January 2018</td>\n      <td>01:00</td>\n    </tr>\n    <tr>\n      <th>47</th>\n      <td>48</td>\n      <td>None</td>\n      <td>None</td>\n      <td>CCAFS</td>\n      <td>None</td>\n      <td>4,230 kg</td>\n      <td>GTO</td>\n      <td>SES</td>\n      <td>None</td>\n      <td>None</td>\n      <td>...</td>\n      <td>None</td>\n      <td>None</td>\n      <td>None</td>\n      <td>None</td>\n      <td>GovSat-1</td>\n      <td>Success</td>\n      <td>F9 FTB1032.2</td>\n      <td>Controlled</td>\n      <td>31 January 2018</td>\n      <td>21:25</td>\n    </tr>\n    <tr>\n      <th>48</th>\n      <td>49</td>\n      <td>None</td>\n      <td>None</td>\n      <td>VAFB</td>\n      <td>None</td>\n      <td>2,150 kg</td>\n      <td>SSO</td>\n      <td>Hisdesat</td>\n      <td>None</td>\n      <td>None</td>\n      <td>...</td>\n      <td>None</td>\n      <td>None</td>\n      <td>None</td>\n      <td>None</td>\n      <td>Paz</td>\n      <td>Success</td>\n      <td>F9 FTB1038.2</td>\n      <td>No attempt</td>\n      <td>22 February 2018</td>\n      <td>14:17</td>\n    </tr>\n    <tr>\n      <th>49</th>\n      <td>50</td>\n      <td>None</td>\n      <td>None</td>\n      <td>CCAFS</td>\n      <td>None</td>\n      <td>6,092 kg</td>\n      <td>GTO</td>\n      <td>Hispasat</td>\n      <td>None</td>\n      <td>None</td>\n      <td>...</td>\n      <td>None</td>\n      <td>None</td>\n      <td>None</td>\n      <td>None</td>\n      <td>Hispasat 30W-6</td>\n      <td>Success</td>\n      <td>F9 B4</td>\n      <td>No attempt</td>\n      <td>6 March 2018</td>\n      <td>05:33</td>\n    </tr>\n    <tr>\n      <th>50</th>\n      <td>51</td>\n      <td>None</td>\n      <td>None</td>\n      <td>VAFB</td>\n      <td>None</td>\n      <td>9,600 kg</td>\n      <td>Polar</td>\n      <td>Iridium Communications</td>\n      <td>None</td>\n      <td>None</td>\n      <td>...</td>\n      <td>None</td>\n      <td>None</td>\n      <td>None</td>\n      <td>None</td>\n      <td>Iridium NEXT</td>\n      <td>Success</td>\n      <td>F9 B4B1041.2</td>\n      <td>No attempt</td>\n      <td>30 March 2018</td>\n      <td>14:14</td>\n    </tr>\n    <tr>\n      <th>51</th>\n      <td>52</td>\n      <td>None</td>\n      <td>None</td>\n      <td>CCAFS</td>\n      <td>None</td>\n      <td>2,647 kg</td>\n      <td>LEO</td>\n      <td>NASA</td>\n      <td>None</td>\n      <td>None</td>\n      <td>...</td>\n      <td>None</td>\n      <td>None</td>\n      <td>None</td>\n      <td>None</td>\n      <td>SpaceX CRS-14</td>\n      <td>Success</td>\n      <td>F9 B4B1039.2</td>\n      <td>No attempt</td>\n      <td>2 April 2018</td>\n      <td>20:30</td>\n    </tr>\n    <tr>\n      <th>52</th>\n      <td>53</td>\n      <td>None</td>\n      <td>None</td>\n      <td>CCAFS</td>\n      <td>None</td>\n      <td>362 kg</td>\n      <td>HEO</td>\n      <td>NASA</td>\n      <td>None</td>\n      <td>None</td>\n      <td>...</td>\n      <td>None</td>\n      <td>None</td>\n      <td>None</td>\n      <td>None</td>\n      <td>Transiting Exoplanet Survey Satellite</td>\n      <td>Success</td>\n      <td>F9 B4</td>\n      <td>Success</td>\n      <td>18 April 2018</td>\n      <td>22:51</td>\n    </tr>\n    <tr>\n      <th>53</th>\n      <td>54</td>\n      <td>None</td>\n      <td>None</td>\n      <td>KSC</td>\n      <td>None</td>\n      <td>3,600 kg</td>\n      <td>GTO</td>\n      <td>Thales-Alenia</td>\n      <td>None</td>\n      <td>None</td>\n      <td>...</td>\n      <td>None</td>\n      <td>None</td>\n      <td>None</td>\n      <td>None</td>\n      <td>Bangabandhu-1</td>\n      <td>Success</td>\n      <td>F9 B5B1046.1</td>\n      <td>Success</td>\n      <td>11 May 2018</td>\n      <td>20:14</td>\n    </tr>\n    <tr>\n      <th>54</th>\n      <td>55</td>\n      <td>None</td>\n      <td>None</td>\n      <td>VAFB</td>\n      <td>None</td>\n      <td>6,460 kg</td>\n      <td>Polar</td>\n      <td>Iridium Communications</td>\n      <td>None</td>\n      <td>None</td>\n      <td>...</td>\n      <td>None</td>\n      <td>None</td>\n      <td>None</td>\n      <td>None</td>\n      <td>Iridium NEXT</td>\n      <td>Success</td>\n      <td>F9 B4B1043.2</td>\n      <td>No attempt</td>\n      <td>22 May 2018</td>\n      <td>19:47</td>\n    </tr>\n    <tr>\n      <th>55</th>\n      <td>56</td>\n      <td>None</td>\n      <td>None</td>\n      <td>CCAFS</td>\n      <td>None</td>\n      <td>5,384 kg</td>\n      <td>GTO</td>\n      <td>SES</td>\n      <td>None</td>\n      <td>None</td>\n      <td>...</td>\n      <td>None</td>\n      <td>None</td>\n      <td>None</td>\n      <td>None</td>\n      <td>SES-12</td>\n      <td>Success</td>\n      <td>F9 B4B1040.2</td>\n      <td>No attempt</td>\n      <td>4 June 2018</td>\n      <td>04:45</td>\n    </tr>\n    <tr>\n      <th>56</th>\n      <td>57</td>\n      <td>None</td>\n      <td>None</td>\n      <td>CCAFS</td>\n      <td>None</td>\n      <td>2,697 kg</td>\n      <td>LEO</td>\n      <td>NASA</td>\n      <td>None</td>\n      <td>None</td>\n      <td>...</td>\n      <td>None</td>\n      <td>None</td>\n      <td>None</td>\n      <td>None</td>\n      <td>SpaceX CRS-15</td>\n      <td>Success</td>\n      <td>F9 B4B1045.2</td>\n      <td>No attempt</td>\n      <td>29 June 2018</td>\n      <td>09:42</td>\n    </tr>\n    <tr>\n      <th>57</th>\n      <td>58</td>\n      <td>None</td>\n      <td>None</td>\n      <td>CCAFS</td>\n      <td>None</td>\n      <td>7,075 kg</td>\n      <td>GTO</td>\n      <td>Telesat</td>\n      <td>None</td>\n      <td>None</td>\n      <td>...</td>\n      <td>None</td>\n      <td>None</td>\n      <td>None</td>\n      <td>None</td>\n      <td>Telstar 19V</td>\n      <td>Success</td>\n      <td>F9 B5</td>\n      <td>Success</td>\n      <td>22 July 2018</td>\n      <td>05:50</td>\n    </tr>\n    <tr>\n      <th>58</th>\n      <td>59</td>\n      <td>None</td>\n      <td>None</td>\n      <td>VAFB</td>\n      <td>None</td>\n      <td>9,600 kg</td>\n      <td>Polar</td>\n      <td>Iridium Communications</td>\n      <td>None</td>\n      <td>None</td>\n      <td>...</td>\n      <td>None</td>\n      <td>None</td>\n      <td>None</td>\n      <td>None</td>\n      <td>Iridium NEXT</td>\n      <td>Success</td>\n      <td>F9 B5B1048</td>\n      <td>Success</td>\n      <td>25 July 2018</td>\n      <td>11:39</td>\n    </tr>\n    <tr>\n      <th>59</th>\n      <td>60</td>\n      <td>None</td>\n      <td>None</td>\n      <td>CCAFS</td>\n      <td>None</td>\n      <td>5,800 kg</td>\n      <td>GTO</td>\n      <td>Telkom Indonesia</td>\n      <td>None</td>\n      <td>None</td>\n      <td>...</td>\n      <td>None</td>\n      <td>None</td>\n      <td>None</td>\n      <td>None</td>\n      <td>Merah Putih</td>\n      <td>Success</td>\n      <td>F9 B5B1046.2</td>\n      <td>Success</td>\n      <td>7 August 2018</td>\n      <td>05:18</td>\n    </tr>\n    <tr>\n      <th>60</th>\n      <td>61</td>\n      <td>None</td>\n      <td>None</td>\n      <td>CCAFS</td>\n      <td>None</td>\n      <td>7,060 kg</td>\n      <td>GTO</td>\n      <td>Telesat</td>\n      <td>None</td>\n      <td>None</td>\n      <td>...</td>\n      <td>None</td>\n      <td>None</td>\n      <td>None</td>\n      <td>None</td>\n      <td>Telstar 18V</td>\n      <td>Success</td>\n      <td>F9 B5</td>\n      <td>Success</td>\n      <td>10 September 2018</td>\n      <td>04:45</td>\n    </tr>\n    <tr>\n      <th>61</th>\n      <td>62</td>\n      <td>None</td>\n      <td>None</td>\n      <td>VAFB</td>\n      <td>None</td>\n      <td>3,000 kg</td>\n      <td>SSO</td>\n      <td>CONAE</td>\n      <td>None</td>\n      <td>None</td>\n      <td>...</td>\n      <td>None</td>\n      <td>None</td>\n      <td>None</td>\n      <td>None</td>\n      <td>SAOCOM 1A</td>\n      <td>Success</td>\n      <td>F9 B5B1048.2</td>\n      <td>Success</td>\n      <td>8 October 2018</td>\n      <td>02:22</td>\n    </tr>\n    <tr>\n      <th>62</th>\n      <td>63</td>\n      <td>None</td>\n      <td>None</td>\n      <td>KSC</td>\n      <td>None</td>\n      <td>5,300 kg</td>\n      <td>GTO</td>\n      <td>Es'hailSat</td>\n      <td>None</td>\n      <td>None</td>\n      <td>...</td>\n      <td>None</td>\n      <td>None</td>\n      <td>None</td>\n      <td>None</td>\n      <td>Es'hail 2</td>\n      <td>Success</td>\n      <td>F9 B5B1047.2</td>\n      <td>Success</td>\n      <td>15 November 2018</td>\n      <td>20:46</td>\n    </tr>\n    <tr>\n      <th>63</th>\n      <td>64</td>\n      <td>None</td>\n      <td>None</td>\n      <td>VAFB</td>\n      <td>None</td>\n      <td>~4,000 kg</td>\n      <td>SSO</td>\n      <td>Spaceflight Industries</td>\n      <td>None</td>\n      <td>None</td>\n      <td>...</td>\n      <td>None</td>\n      <td>None</td>\n      <td>None</td>\n      <td>None</td>\n      <td>SSO-A</td>\n      <td>Success</td>\n      <td>F9 B5B1046.3</td>\n      <td>Success</td>\n      <td>3 December 2018</td>\n      <td>18:34:05</td>\n    </tr>\n    <tr>\n      <th>65</th>\n      <td>66</td>\n      <td>None</td>\n      <td>None</td>\n      <td>CCAFS</td>\n      <td>None</td>\n      <td>4,400 kg</td>\n      <td>MEO</td>\n      <td>USAF</td>\n      <td>None</td>\n      <td>None</td>\n      <td>...</td>\n      <td>None</td>\n      <td>None</td>\n      <td>None</td>\n      <td>None</td>\n      <td>GPS III</td>\n      <td>Success</td>\n      <td>F9 B5</td>\n      <td>No attempt</td>\n      <td>23 December 2018</td>\n      <td>13:51</td>\n    </tr>\n  </tbody>\n</table>\n<p>32 rows \u00d7 198 columns</p>\n</div>",
                        "text/plain": "   Flight No. Date andtime (UTC) Version,Booster [b]     Launch site  \\\n1           2               None                None           CCAFS   \n2           3               None                None           CCAFS   \n5           6               None                None            VAFB   \n6           7               None                None           CCAFS   \n7           8               None                None           CCAFS   \n9          10               None                None  Cape Canaveral   \n10         11               None                None  Cape Canaveral   \n11         12               None                None  Cape Canaveral   \n12         13               None                None  Cape Canaveral   \n13         14               None                None  Cape Canaveral   \n22         23               None                None  Cape Canaveral   \n31         32               None                None             KSC   \n45         46               None                None            VAFB   \n46         47               None                None           CCAFS   \n47         48               None                None           CCAFS   \n48         49               None                None            VAFB   \n49         50               None                None           CCAFS   \n50         51               None                None            VAFB   \n51         52               None                None           CCAFS   \n52         53               None                None           CCAFS   \n53         54               None                None             KSC   \n54         55               None                None            VAFB   \n55         56               None                None           CCAFS   \n56         57               None                None           CCAFS   \n57         58               None                None           CCAFS   \n58         59               None                None            VAFB   \n59         60               None                None           CCAFS   \n60         61               None                None           CCAFS   \n61         62               None                None            VAFB   \n62         63               None                None             KSC   \n63         64               None                None            VAFB   \n65         66               None                None           CCAFS   \n\n   Payload[c] Payload mass        Orbit                Customer Launchoutcome  \\\n1        None            0          LEO                    NASA          None   \n2        None       525 kg          LEO                    NASA          None   \n5        None       500 kg  Polar orbit                     MDA          None   \n6        None     3,170 kg          GTO                     SES          None   \n7        None     3,325 kg          GTO                 Thaicom          None   \n9        None     1,316 kg          LEO                 Orbcomm          None   \n10       None     4,535 kg          GTO                 AsiaSat          None   \n11       None     4,428 kg          GTO                 AsiaSat          None   \n12       None     2,216 kg          LEO                    NASA          None   \n13       None     2,395 kg          LEO                    NASA          None   \n22       None     3,136 kg          LEO                    NASA          None   \n31       None     5,300 kg          GTO                     SES          None   \n45       None     9,600 kg        Polar  Iridium Communications          None   \n46       None            C          LEO        Northrop Grumman          None   \n47       None     4,230 kg          GTO                     SES          None   \n48       None     2,150 kg          SSO                Hisdesat          None   \n49       None     6,092 kg          GTO                Hispasat          None   \n50       None     9,600 kg        Polar  Iridium Communications          None   \n51       None     2,647 kg          LEO                    NASA          None   \n52       None       362 kg          HEO                    NASA          None   \n53       None     3,600 kg          GTO           Thales-Alenia          None   \n54       None     6,460 kg        Polar  Iridium Communications          None   \n55       None     5,384 kg          GTO                     SES          None   \n56       None     2,697 kg          LEO                    NASA          None   \n57       None     7,075 kg          GTO                 Telesat          None   \n58       None     9,600 kg        Polar  Iridium Communications          None   \n59       None     5,800 kg          GTO        Telkom Indonesia          None   \n60       None     7,060 kg          GTO                 Telesat          None   \n61       None     3,000 kg          SSO                   CONAE          None   \n62       None     5,300 kg          GTO              Es'hailSat          None   \n63       None    ~4,000 kg          SSO  Spaceflight Industries          None   \n65       None     4,400 kg          MEO                    USAF          None   \n\n   Boosterlanding  ... Launches by rocket type Launches by spaceport  \\\n1            None  ...                    None                  None   \n2            None  ...                    None                  None   \n5            None  ...                    None                  None   \n6            None  ...                    None                  None   \n7            None  ...                    None                  None   \n9            None  ...                    None                  None   \n10           None  ...                    None                  None   \n11           None  ...                    None                  None   \n12           None  ...                    None                  None   \n13           None  ...                    None                  None   \n22           None  ...                    None                  None   \n31           None  ...                    None                  None   \n45           None  ...                    None                  None   \n46           None  ...                    None                  None   \n47           None  ...                    None                  None   \n48           None  ...                    None                  None   \n49           None  ...                    None                  None   \n50           None  ...                    None                  None   \n51           None  ...                    None                  None   \n52           None  ...                    None                  None   \n53           None  ...                    None                  None   \n54           None  ...                    None                  None   \n55           None  ...                    None                  None   \n56           None  ...                    None                  None   \n57           None  ...                    None                  None   \n58           None  ...                    None                  None   \n59           None  ...                    None                  None   \n60           None  ...                    None                  None   \n61           None  ...                    None                  None   \n62           None  ...                    None                  None   \n63           None  ...                    None                  None   \n65           None  ...                    None                  None   \n\n   Agencies, companiesand facilities Other mission listsand timelines  \\\n1                               None                             None   \n2                               None                             None   \n5                               None                             None   \n6                               None                             None   \n7                               None                             None   \n9                               None                             None   \n10                              None                             None   \n11                              None                             None   \n12                              None                             None   \n13                              None                             None   \n22                              None                             None   \n31                              None                             None   \n45                              None                             None   \n46                              None                             None   \n47                              None                             None   \n48                              None                             None   \n49                              None                             None   \n50                              None                             None   \n51                              None                             None   \n52                              None                             None   \n53                              None                             None   \n54                              None                             None   \n55                              None                             None   \n56                              None                             None   \n57                              None                             None   \n58                              None                             None   \n59                              None                             None   \n60                              None                             None   \n61                              None                             None   \n62                              None                             None   \n63                              None                             None   \n65                              None                             None   \n\n                                  Payload Launch outcome Version Booster  \\\n1                                  Dragon        Success  F9 v1.0B0004.1   \n2                                  Dragon        Success  F9 v1.0B0005.1   \n5                                CASSIOPE        Success    F9 v1.1B1003   \n6                                   SES-8        Success         F9 v1.1   \n7                               Thaicom 6        Success         F9 v1.1   \n9                             Orbcomm-OG2        Success         F9 v1.1   \n10                              AsiaSat 8        Success         F9 v1.1   \n11                              AsiaSat 6        Success         F9 v1.1   \n12                           SpaceX CRS-4        Success         F9 v1.1   \n13                           SpaceX CRS-5        Success         F9 v1.1   \n22                           SpaceX CRS-8        Success           F9 FT   \n31                                 SES-10        Success          F9 FT\u267a   \n45                           Iridium NEXT        Success    F9 FTB1036.2   \n46                                   Zuma        Success           F9 B4   \n47                               GovSat-1        Success    F9 FTB1032.2   \n48                                    Paz        Success    F9 FTB1038.2   \n49                         Hispasat 30W-6        Success           F9 B4   \n50                           Iridium NEXT        Success    F9 B4B1041.2   \n51                          SpaceX CRS-14        Success    F9 B4B1039.2   \n52  Transiting Exoplanet Survey Satellite        Success           F9 B4   \n53                          Bangabandhu-1        Success    F9 B5B1046.1   \n54                           Iridium NEXT        Success    F9 B4B1043.2   \n55                                 SES-12        Success    F9 B4B1040.2   \n56                          SpaceX CRS-15        Success    F9 B4B1045.2   \n57                            Telstar 19V        Success           F9 B5   \n58                           Iridium NEXT        Success      F9 B5B1048   \n59                            Merah Putih        Success    F9 B5B1046.2   \n60                            Telstar 18V        Success           F9 B5   \n61                              SAOCOM 1A        Success    F9 B5B1048.2   \n62                              Es'hail 2        Success    F9 B5B1047.2   \n63                                  SSO-A        Success    F9 B5B1046.3   \n65                                GPS III        Success           F9 B5   \n\n   Booster landing               Date      Time  \n1          Failure    8 December 2010     15:43  \n2     No attempt\\n        22 May 2012     07:44  \n5     Uncontrolled  29 September 2013     16:00  \n6       No attempt    3 December 2013     22:41  \n7       No attempt     6 January 2014     22:06  \n9       Controlled       14 July 2014     15:15  \n10      No attempt      5 August 2014     08:00  \n11    No attempt\\n   7 September 2014     05:00  \n12    Uncontrolled  21 September 2014     05:52  \n13        Failure     10 January 2015     09:47  \n22         Success       8 April 2016     20:43  \n31         Success      30 March 2017     22:27  \n45      Controlled   23 December 2017     01:27  \n46         Success     8 January 2018     01:00  \n47      Controlled    31 January 2018     21:25  \n48      No attempt   22 February 2018     14:17  \n49      No attempt       6 March 2018     05:33  \n50      No attempt      30 March 2018     14:14  \n51      No attempt       2 April 2018     20:30  \n52         Success      18 April 2018     22:51  \n53         Success        11 May 2018     20:14  \n54      No attempt        22 May 2018     19:47  \n55      No attempt        4 June 2018     04:45  \n56      No attempt       29 June 2018     09:42  \n57         Success       22 July 2018     05:50  \n58         Success       25 July 2018     11:39  \n59         Success      7 August 2018     05:18  \n60         Success  10 September 2018     04:45  \n61         Success     8 October 2018     02:22  \n62         Success   15 November 2018     20:46  \n63         Success    3 December 2018  18:34:05  \n65      No attempt   23 December 2018     13:51  \n\n[32 rows x 198 columns]"
                    },
                    "execution_count": 41,
                    "metadata": {},
                    "output_type": "execute_result"
                }
            ],
            "source": "df[df['Launch outcome'] == 'Success']"
        },
        {
            "cell_type": "markdown",
            "metadata": {},
            "source": "We can now export it to a <b>CSV</b> for the next section, but to make the answers consistent and in case you have difficulties finishing this lab.\n\nFollowing labs will be using a provided dataset to make each lab independent.\n"
        },
        {
            "cell_type": "code",
            "execution_count": 42,
            "metadata": {},
            "outputs": [],
            "source": "df.to_csv('c:\\spacex_web_scraped.csv', index=False)"
        },
        {
            "cell_type": "markdown",
            "metadata": {},
            "source": "## Authors\n"
        },
        {
            "cell_type": "markdown",
            "metadata": {},
            "source": "<a href=\"https://www.linkedin.com/in/yan-luo-96288783/?utm_medium=Exinfluencer&utm_source=Exinfluencer&utm_content=000026UJ&utm_term=10006555&utm_id=NA-SkillsNetwork-Channel-SkillsNetworkCoursesIBMDS0321ENSkillsNetwork26802033-2021-01-01\">Yan Luo</a>\n"
        },
        {
            "cell_type": "markdown",
            "metadata": {},
            "source": "<a href=\"https://www.linkedin.com/in/nayefaboutayoun/?utm_medium=Exinfluencer&utm_source=Exinfluencer&utm_content=000026UJ&utm_term=10006555&utm_id=NA-SkillsNetwork-Channel-SkillsNetworkCoursesIBMDS0321ENSkillsNetwork26802033-2021-01-01\">Nayef Abou Tayoun</a>\n"
        },
        {
            "cell_type": "markdown",
            "metadata": {},
            "source": "## Change Log\n"
        },
        {
            "cell_type": "markdown",
            "metadata": {},
            "source": "| Date (YYYY-MM-DD) | Version | Changed By | Change Description          |\n| ----------------- | ------- | ---------- | --------------------------- |\n| 2021-06-09        | 1.0     | Yan Luo    | Tasks updates               |\n| 2020-11-10        | 1.0     | Nayef      | Created the initial version |\n"
        },
        {
            "cell_type": "markdown",
            "metadata": {},
            "source": "Copyright \u00a9 2021 IBM Corporation. All rights reserved.\n"
        },
        {
            "cell_type": "code",
            "execution_count": 44,
            "metadata": {},
            "outputs": [],
            "source": "df=pd.read_csv(\"https://cf-courses-data.s3.us.cloud-object-storage.appdomain.cloud/IBM-DS0321EN-SkillsNetwork/datasets/dataset_part_1.csv\")"
        },
        {
            "cell_type": "code",
            "execution_count": 46,
            "metadata": {},
            "outputs": [],
            "source": "#df.head"
        },
        {
            "cell_type": "code",
            "execution_count": 47,
            "metadata": {},
            "outputs": [
                {
                    "data": {
                        "text/plain": "GTO      27\nISS      21\nVLEO     14\nPO        9\nLEO       7\nSSO       5\nMEO       3\nGEO       1\nES-L1     1\nHEO       1\nSO        1\nName: Orbit, dtype: int64"
                    },
                    "execution_count": 47,
                    "metadata": {},
                    "output_type": "execute_result"
                }
            ],
            "source": "df['Orbit'].value_counts()"
        },
        {
            "cell_type": "code",
            "execution_count": 48,
            "metadata": {},
            "outputs": [
                {
                    "data": {
                        "text/plain": "Falcon 9    90\nName: BoosterVersion, dtype: int64"
                    },
                    "execution_count": 48,
                    "metadata": {},
                    "output_type": "execute_result"
                }
            ],
            "source": "df['BoosterVersion'].value_counts()"
        },
        {
            "cell_type": "code",
            "execution_count": 60,
            "metadata": {},
            "outputs": [
                {
                    "data": {
                        "text/plain": "26"
                    },
                    "execution_count": 60,
                    "metadata": {},
                    "output_type": "execute_result"
                }
            ],
            "source": "df['LandingPad'].isnull().sum()"
        },
        {
            "cell_type": "code",
            "execution_count": 58,
            "metadata": {},
            "outputs": [
                {
                    "data": {
                        "text/html": "<div>\n<style scoped>\n    .dataframe tbody tr th:only-of-type {\n        vertical-align: middle;\n    }\n\n    .dataframe tbody tr th {\n        vertical-align: top;\n    }\n\n    .dataframe thead th {\n        text-align: right;\n    }\n</style>\n<table border=\"1\" class=\"dataframe\">\n  <thead>\n    <tr style=\"text-align: right;\">\n      <th></th>\n      <th>FlightNumber</th>\n      <th>Date</th>\n      <th>BoosterVersion</th>\n      <th>PayloadMass</th>\n      <th>Orbit</th>\n      <th>LaunchSite</th>\n      <th>Outcome</th>\n      <th>Flights</th>\n      <th>GridFins</th>\n      <th>Reused</th>\n      <th>Legs</th>\n      <th>LandingPad</th>\n      <th>Block</th>\n      <th>ReusedCount</th>\n      <th>Serial</th>\n      <th>Longitude</th>\n      <th>Latitude</th>\n    </tr>\n  </thead>\n  <tbody>\n    <tr>\n      <th>21</th>\n      <td>False</td>\n      <td>False</td>\n      <td>False</td>\n      <td>False</td>\n      <td>False</td>\n      <td>False</td>\n      <td>False</td>\n      <td>False</td>\n      <td>False</td>\n      <td>False</td>\n      <td>False</td>\n      <td>False</td>\n      <td>False</td>\n      <td>False</td>\n      <td>False</td>\n      <td>False</td>\n      <td>False</td>\n    </tr>\n    <tr>\n      <th>22</th>\n      <td>False</td>\n      <td>False</td>\n      <td>False</td>\n      <td>False</td>\n      <td>False</td>\n      <td>False</td>\n      <td>False</td>\n      <td>False</td>\n      <td>False</td>\n      <td>False</td>\n      <td>False</td>\n      <td>False</td>\n      <td>False</td>\n      <td>False</td>\n      <td>False</td>\n      <td>False</td>\n      <td>False</td>\n    </tr>\n    <tr>\n      <th>23</th>\n      <td>False</td>\n      <td>False</td>\n      <td>False</td>\n      <td>False</td>\n      <td>False</td>\n      <td>False</td>\n      <td>False</td>\n      <td>False</td>\n      <td>False</td>\n      <td>False</td>\n      <td>False</td>\n      <td>False</td>\n      <td>False</td>\n      <td>False</td>\n      <td>False</td>\n      <td>False</td>\n      <td>False</td>\n    </tr>\n    <tr>\n      <th>24</th>\n      <td>False</td>\n      <td>False</td>\n      <td>False</td>\n      <td>False</td>\n      <td>False</td>\n      <td>False</td>\n      <td>False</td>\n      <td>False</td>\n      <td>False</td>\n      <td>False</td>\n      <td>False</td>\n      <td>False</td>\n      <td>False</td>\n      <td>False</td>\n      <td>False</td>\n      <td>False</td>\n      <td>False</td>\n    </tr>\n    <tr>\n      <th>25</th>\n      <td>False</td>\n      <td>False</td>\n      <td>False</td>\n      <td>False</td>\n      <td>False</td>\n      <td>False</td>\n      <td>False</td>\n      <td>False</td>\n      <td>False</td>\n      <td>False</td>\n      <td>False</td>\n      <td>False</td>\n      <td>False</td>\n      <td>False</td>\n      <td>False</td>\n      <td>False</td>\n      <td>False</td>\n    </tr>\n    <tr>\n      <th>26</th>\n      <td>False</td>\n      <td>False</td>\n      <td>False</td>\n      <td>False</td>\n      <td>False</td>\n      <td>False</td>\n      <td>False</td>\n      <td>False</td>\n      <td>False</td>\n      <td>False</td>\n      <td>False</td>\n      <td>False</td>\n      <td>False</td>\n      <td>False</td>\n      <td>False</td>\n      <td>False</td>\n      <td>False</td>\n    </tr>\n    <tr>\n      <th>27</th>\n      <td>False</td>\n      <td>False</td>\n      <td>False</td>\n      <td>False</td>\n      <td>False</td>\n      <td>False</td>\n      <td>False</td>\n      <td>False</td>\n      <td>False</td>\n      <td>False</td>\n      <td>False</td>\n      <td>True</td>\n      <td>False</td>\n      <td>False</td>\n      <td>False</td>\n      <td>False</td>\n      <td>False</td>\n    </tr>\n    <tr>\n      <th>28</th>\n      <td>False</td>\n      <td>False</td>\n      <td>False</td>\n      <td>False</td>\n      <td>False</td>\n      <td>False</td>\n      <td>False</td>\n      <td>False</td>\n      <td>False</td>\n      <td>False</td>\n      <td>False</td>\n      <td>False</td>\n      <td>False</td>\n      <td>False</td>\n      <td>False</td>\n      <td>False</td>\n      <td>False</td>\n    </tr>\n    <tr>\n      <th>29</th>\n      <td>False</td>\n      <td>False</td>\n      <td>False</td>\n      <td>False</td>\n      <td>False</td>\n      <td>False</td>\n      <td>False</td>\n      <td>False</td>\n      <td>False</td>\n      <td>False</td>\n      <td>False</td>\n      <td>False</td>\n      <td>False</td>\n      <td>False</td>\n      <td>False</td>\n      <td>False</td>\n      <td>False</td>\n    </tr>\n    <tr>\n      <th>30</th>\n      <td>False</td>\n      <td>False</td>\n      <td>False</td>\n      <td>False</td>\n      <td>False</td>\n      <td>False</td>\n      <td>False</td>\n      <td>False</td>\n      <td>False</td>\n      <td>False</td>\n      <td>False</td>\n      <td>True</td>\n      <td>False</td>\n      <td>False</td>\n      <td>False</td>\n      <td>False</td>\n      <td>False</td>\n    </tr>\n    <tr>\n      <th>31</th>\n      <td>False</td>\n      <td>False</td>\n      <td>False</td>\n      <td>False</td>\n      <td>False</td>\n      <td>False</td>\n      <td>False</td>\n      <td>False</td>\n      <td>False</td>\n      <td>False</td>\n      <td>False</td>\n      <td>False</td>\n      <td>False</td>\n      <td>False</td>\n      <td>False</td>\n      <td>False</td>\n      <td>False</td>\n    </tr>\n    <tr>\n      <th>32</th>\n      <td>False</td>\n      <td>False</td>\n      <td>False</td>\n      <td>False</td>\n      <td>False</td>\n      <td>False</td>\n      <td>False</td>\n      <td>False</td>\n      <td>False</td>\n      <td>False</td>\n      <td>False</td>\n      <td>False</td>\n      <td>False</td>\n      <td>False</td>\n      <td>False</td>\n      <td>False</td>\n      <td>False</td>\n    </tr>\n    <tr>\n      <th>33</th>\n      <td>False</td>\n      <td>False</td>\n      <td>False</td>\n      <td>False</td>\n      <td>False</td>\n      <td>False</td>\n      <td>False</td>\n      <td>False</td>\n      <td>False</td>\n      <td>False</td>\n      <td>False</td>\n      <td>False</td>\n      <td>False</td>\n      <td>False</td>\n      <td>False</td>\n      <td>False</td>\n      <td>False</td>\n    </tr>\n    <tr>\n      <th>34</th>\n      <td>False</td>\n      <td>False</td>\n      <td>False</td>\n      <td>False</td>\n      <td>False</td>\n      <td>False</td>\n      <td>False</td>\n      <td>False</td>\n      <td>False</td>\n      <td>False</td>\n      <td>False</td>\n      <td>True</td>\n      <td>False</td>\n      <td>False</td>\n      <td>False</td>\n      <td>False</td>\n      <td>False</td>\n    </tr>\n    <tr>\n      <th>35</th>\n      <td>False</td>\n      <td>False</td>\n      <td>False</td>\n      <td>False</td>\n      <td>False</td>\n      <td>False</td>\n      <td>False</td>\n      <td>False</td>\n      <td>False</td>\n      <td>False</td>\n      <td>False</td>\n      <td>False</td>\n      <td>False</td>\n      <td>False</td>\n      <td>False</td>\n      <td>False</td>\n      <td>False</td>\n    </tr>\n    <tr>\n      <th>36</th>\n      <td>False</td>\n      <td>False</td>\n      <td>False</td>\n      <td>False</td>\n      <td>False</td>\n      <td>False</td>\n      <td>False</td>\n      <td>False</td>\n      <td>False</td>\n      <td>False</td>\n      <td>False</td>\n      <td>False</td>\n      <td>False</td>\n      <td>False</td>\n      <td>False</td>\n      <td>False</td>\n      <td>False</td>\n    </tr>\n    <tr>\n      <th>37</th>\n      <td>False</td>\n      <td>False</td>\n      <td>False</td>\n      <td>False</td>\n      <td>False</td>\n      <td>False</td>\n      <td>False</td>\n      <td>False</td>\n      <td>False</td>\n      <td>False</td>\n      <td>False</td>\n      <td>False</td>\n      <td>False</td>\n      <td>False</td>\n      <td>False</td>\n      <td>False</td>\n      <td>False</td>\n    </tr>\n    <tr>\n      <th>38</th>\n      <td>False</td>\n      <td>False</td>\n      <td>False</td>\n      <td>False</td>\n      <td>False</td>\n      <td>False</td>\n      <td>False</td>\n      <td>False</td>\n      <td>False</td>\n      <td>False</td>\n      <td>False</td>\n      <td>False</td>\n      <td>False</td>\n      <td>False</td>\n      <td>False</td>\n      <td>False</td>\n      <td>False</td>\n    </tr>\n    <tr>\n      <th>39</th>\n      <td>False</td>\n      <td>False</td>\n      <td>False</td>\n      <td>False</td>\n      <td>False</td>\n      <td>False</td>\n      <td>False</td>\n      <td>False</td>\n      <td>False</td>\n      <td>False</td>\n      <td>False</td>\n      <td>False</td>\n      <td>False</td>\n      <td>False</td>\n      <td>False</td>\n      <td>False</td>\n      <td>False</td>\n    </tr>\n  </tbody>\n</table>\n</div>",
                        "text/plain": "    FlightNumber   Date  BoosterVersion  PayloadMass  Orbit  LaunchSite  \\\n21         False  False           False        False  False       False   \n22         False  False           False        False  False       False   \n23         False  False           False        False  False       False   \n24         False  False           False        False  False       False   \n25         False  False           False        False  False       False   \n26         False  False           False        False  False       False   \n27         False  False           False        False  False       False   \n28         False  False           False        False  False       False   \n29         False  False           False        False  False       False   \n30         False  False           False        False  False       False   \n31         False  False           False        False  False       False   \n32         False  False           False        False  False       False   \n33         False  False           False        False  False       False   \n34         False  False           False        False  False       False   \n35         False  False           False        False  False       False   \n36         False  False           False        False  False       False   \n37         False  False           False        False  False       False   \n38         False  False           False        False  False       False   \n39         False  False           False        False  False       False   \n\n    Outcome  Flights  GridFins  Reused   Legs  LandingPad  Block  ReusedCount  \\\n21    False    False     False   False  False       False  False        False   \n22    False    False     False   False  False       False  False        False   \n23    False    False     False   False  False       False  False        False   \n24    False    False     False   False  False       False  False        False   \n25    False    False     False   False  False       False  False        False   \n26    False    False     False   False  False       False  False        False   \n27    False    False     False   False  False        True  False        False   \n28    False    False     False   False  False       False  False        False   \n29    False    False     False   False  False       False  False        False   \n30    False    False     False   False  False        True  False        False   \n31    False    False     False   False  False       False  False        False   \n32    False    False     False   False  False       False  False        False   \n33    False    False     False   False  False       False  False        False   \n34    False    False     False   False  False        True  False        False   \n35    False    False     False   False  False       False  False        False   \n36    False    False     False   False  False       False  False        False   \n37    False    False     False   False  False       False  False        False   \n38    False    False     False   False  False       False  False        False   \n39    False    False     False   False  False       False  False        False   \n\n    Serial  Longitude  Latitude  \n21   False      False     False  \n22   False      False     False  \n23   False      False     False  \n24   False      False     False  \n25   False      False     False  \n26   False      False     False  \n27   False      False     False  \n28   False      False     False  \n29   False      False     False  \n30   False      False     False  \n31   False      False     False  \n32   False      False     False  \n33   False      False     False  \n34   False      False     False  \n35   False      False     False  \n36   False      False     False  \n37   False      False     False  \n38   False      False     False  \n39   False      False     False  "
                    },
                    "execution_count": 58,
                    "metadata": {},
                    "output_type": "execute_result"
                }
            ],
            "source": "df[21:40].isnull()"
        },
        {
            "cell_type": "code",
            "execution_count": 68,
            "metadata": {},
            "outputs": [
                {
                    "data": {
                        "text/plain": "True ASDS      41\nNone None      19\nTrue RTLS      14\nFalse ASDS      6\nTrue Ocean      5\nFalse Ocean     2\nNone ASDS       2\nFalse RTLS      1\nName: Outcome, dtype: int64"
                    },
                    "execution_count": 68,
                    "metadata": {},
                    "output_type": "execute_result"
                }
            ],
            "source": "df['Outcome'].value_counts()"
        },
        {
            "cell_type": "code",
            "execution_count": 66,
            "metadata": {},
            "outputs": [
                {
                    "data": {
                        "text/plain": "Index(['FlightNumber', 'Date', 'BoosterVersion', 'PayloadMass', 'Orbit',\n       'LaunchSite', 'Outcome', 'Flights', 'GridFins', 'Reused', 'Legs',\n       'LandingPad', 'Block', 'ReusedCount', 'Serial', 'Longitude',\n       'Latitude'],\n      dtype='object')"
                    },
                    "execution_count": 66,
                    "metadata": {},
                    "output_type": "execute_result"
                }
            ],
            "source": "df.columns"
        },
        {
            "cell_type": "code",
            "execution_count": null,
            "metadata": {},
            "outputs": [],
            "source": ""
        }
    ],
    "metadata": {
        "kernelspec": {
            "display_name": "Python 3.8",
            "language": "python",
            "name": "python3"
        },
        "language_info": {
            "codemirror_mode": {
                "name": "ipython",
                "version": 3
            },
            "file_extension": ".py",
            "mimetype": "text/x-python",
            "name": "python",
            "nbconvert_exporter": "python",
            "pygments_lexer": "ipython3",
            "version": "3.8.12"
        }
    },
    "nbformat": 4,
    "nbformat_minor": 4
}